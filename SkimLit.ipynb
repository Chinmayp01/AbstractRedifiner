{
  "nbformat": 4,
  "nbformat_minor": 0,
  "metadata": {
    "colab": {
      "provenance": [],
      "gpuType": "T4"
    },
    "kernelspec": {
      "name": "python3",
      "display_name": "Python 3"
    },
    "language_info": {
      "name": "python"
    },
    "accelerator": "GPU"
  },
  "cells": [
    {
      "cell_type": "markdown",
      "source": [
        "### SkimLit (skimming the Literature)\n",
        "\n",
        "Using Natural Language Processing to make reading medical abtracts easier or Sequential Sentence Classification in Medical abstracts.\n"
      ],
      "metadata": {
        "id": "KElMIPpaLNua"
      }
    },
    {
      "cell_type": "markdown",
      "source": [
        "### The Overview of the things we'wil be working on :\n",
        "\n",
        "* Downloading a text dataset (PubMed 200k RCT)\n",
        "\n",
        "* Writing a preprocessing function for our text data\n",
        "\n",
        "* Setting up multiple modelling experiments with different levels of embeddings\n",
        "\n",
        "* Building a multimodal model to take in different sources of data\n",
        "\n",
        "* Finding the most Wrong prediction\n",
        "\n",
        "Research Paper : https://arxiv.org/abs/1710.06071\n",
        "\n"
      ],
      "metadata": {
        "id": "jQY3Uqe7_Snw"
      }
    },
    {
      "cell_type": "code",
      "source": [
        "## Confirm access to GPU\n",
        "!nvidia-smi-L"
      ],
      "metadata": {
        "colab": {
          "base_uri": "https://localhost:8080/"
        },
        "id": "-G-OToGtLLVs",
        "outputId": "e098174a-3596-4e62-c147-4782703459df"
      },
      "execution_count": null,
      "outputs": [
        {
          "output_type": "stream",
          "name": "stdout",
          "text": [
            "/bin/bash: line 1: nvidia-smi-L: command not found\n"
          ]
        }
      ]
    },
    {
      "cell_type": "markdown",
      "source": [
        "## Get the data\n",
        "\n",
        "Since we'll be replecating the paper above Lets download the dataset :\n",
        "https://github.com/Franck-Dernoncourt/pubmed-rct\n"
      ],
      "metadata": {
        "id": "SIs9g8-iPZaX"
      }
    },
    {
      "cell_type": "code",
      "source": [
        "!git clone https://github.com/Franck-Dernoncourt/pubmed-rct\n",
        "!ls pubmed-rct"
      ],
      "metadata": {
        "colab": {
          "base_uri": "https://localhost:8080/"
        },
        "id": "z4pj8nvbQb0e",
        "outputId": "5fe5c388-2dea-4008-fdde-f063b5bc27eb"
      },
      "execution_count": null,
      "outputs": [
        {
          "output_type": "stream",
          "name": "stdout",
          "text": [
            "Cloning into 'pubmed-rct'...\n",
            "remote: Enumerating objects: 33, done.\u001b[K\n",
            "remote: Counting objects: 100% (8/8), done.\u001b[K\n",
            "remote: Compressing objects: 100% (3/3), done.\u001b[K\n",
            "remote: Total 33 (delta 5), reused 5 (delta 5), pack-reused 25\u001b[K\n",
            "Receiving objects: 100% (33/33), 177.08 MiB | 17.79 MiB/s, done.\n",
            "Resolving deltas: 100% (12/12), done.\n",
            "PubMed_200k_RCT\n",
            "PubMed_200k_RCT_numbers_replaced_with_at_sign\n",
            "PubMed_20k_RCT\n",
            "PubMed_20k_RCT_numbers_replaced_with_at_sign\n",
            "README.md\n"
          ]
        }
      ]
    },
    {
      "cell_type": "code",
      "source": [
        "# Check what files are in the PUbMed_20k dataset\n",
        "!ls pubmed-rct/PubMed_20k_RCT_numbers_replaced_with_at_sign\n",
        "!ls pubmed-rct/PubMed_20k_RCT"
      ],
      "metadata": {
        "colab": {
          "base_uri": "https://localhost:8080/"
        },
        "id": "wHd0CMEzQvhe",
        "outputId": "5595ec45-1703-42b5-ff8a-882e8b738504"
      },
      "execution_count": null,
      "outputs": [
        {
          "output_type": "stream",
          "name": "stdout",
          "text": [
            "dev.txt  test.txt  train.txt\n",
            "dev.txt  test.txt  train.txt\n"
          ]
        }
      ]
    },
    {
      "cell_type": "code",
      "source": [
        "# Start our experiments using the 20k dataset with numberes replaced by '@' sign\n",
        "data_dir =\"/content/pubmed-rct/PubMed_20k_RCT_numbers_replaced_with_at_sign/\""
      ],
      "metadata": {
        "id": "E9f7OgQuRafd"
      },
      "execution_count": null,
      "outputs": []
    },
    {
      "cell_type": "code",
      "source": [
        "import os\n",
        "\n",
        "filenames = [data_dir + filename for filename in os.listdir(data_dir)]\n",
        "filenames"
      ],
      "metadata": {
        "colab": {
          "base_uri": "https://localhost:8080/"
        },
        "id": "Sdv9Eq-5ScEE",
        "outputId": "47176b74-0a64-49c9-8620-b30919320693"
      },
      "execution_count": null,
      "outputs": [
        {
          "output_type": "execute_result",
          "data": {
            "text/plain": [
              "['/content/pubmed-rct/PubMed_20k_RCT_numbers_replaced_with_at_sign/train.txt',\n",
              " '/content/pubmed-rct/PubMed_20k_RCT_numbers_replaced_with_at_sign/test.txt',\n",
              " '/content/pubmed-rct/PubMed_20k_RCT_numbers_replaced_with_at_sign/dev.txt']"
            ]
          },
          "metadata": {},
          "execution_count": 6
        }
      ]
    },
    {
      "cell_type": "markdown",
      "source": [
        "## Preprocess Data\n"
      ],
      "metadata": {
        "id": "xBFv0vE3VvgR"
      }
    },
    {
      "cell_type": "code",
      "source": [
        "# Create function to read the lines of a document\n",
        "\n",
        "def get_lines(filename):\n",
        "  \"\"\"\n",
        "  Reads filename (a text filename ) and returns the lines of text as list\n",
        "\n",
        "  Args :\n",
        "    filename : a string containing the target file\n",
        "\n",
        "  Returns:\n",
        "    A list of strings with one string per line from the target filename.\n",
        "  \"\"\"\n",
        "  with open(filename , 'r') as f:\n",
        "    return f.readlines()\n"
      ],
      "metadata": {
        "id": "PBP4OsHmWHHl"
      },
      "execution_count": null,
      "outputs": []
    },
    {
      "cell_type": "code",
      "source": [
        "# Let's read in the training lines\n",
        "train_lines = get_lines(data_dir + \"train.txt\")\n",
        "train_lines[:20]"
      ],
      "metadata": {
        "colab": {
          "base_uri": "https://localhost:8080/"
        },
        "id": "QWIGbND2XkXk",
        "outputId": "50ff0333-f477-4480-c881-39f6abb4702c"
      },
      "execution_count": null,
      "outputs": [
        {
          "output_type": "execute_result",
          "data": {
            "text/plain": [
              "['###24293578\\n',\n",
              " 'OBJECTIVE\\tTo investigate the efficacy of @ weeks of daily low-dose oral prednisolone in improving pain , mobility , and systemic low-grade inflammation in the short term and whether the effect would be sustained at @ weeks in older adults with moderate to severe knee osteoarthritis ( OA ) .\\n',\n",
              " 'METHODS\\tA total of @ patients with primary knee OA were randomized @:@ ; @ received @ mg/day of prednisolone and @ received placebo for @ weeks .\\n',\n",
              " 'METHODS\\tOutcome measures included pain reduction and improvement in function scores and systemic inflammation markers .\\n',\n",
              " 'METHODS\\tPain was assessed using the visual analog pain scale ( @-@ mm ) .\\n',\n",
              " 'METHODS\\tSecondary outcome measures included the Western Ontario and McMaster Universities Osteoarthritis Index scores , patient global assessment ( PGA ) of the severity of knee OA , and @-min walk distance ( @MWD ) .\\n',\n",
              " 'METHODS\\tSerum levels of interleukin @ ( IL-@ ) , IL-@ , tumor necrosis factor ( TNF ) - , and high-sensitivity C-reactive protein ( hsCRP ) were measured .\\n',\n",
              " 'RESULTS\\tThere was a clinically relevant reduction in the intervention group compared to the placebo group for knee pain , physical function , PGA , and @MWD at @ weeks .\\n',\n",
              " 'RESULTS\\tThe mean difference between treatment arms ( @ % CI ) was @ ( @-@ @ ) , p < @ ; @ ( @-@ @ ) , p < @ ; @ ( @-@ @ ) , p < @ ; and @ ( @-@ @ ) , p < @ , respectively .\\n',\n",
              " 'RESULTS\\tFurther , there was a clinically relevant reduction in the serum levels of IL-@ , IL-@ , TNF - , and hsCRP at @ weeks in the intervention group when compared to the placebo group .\\n',\n",
              " 'RESULTS\\tThese differences remained significant at @ weeks .\\n',\n",
              " 'RESULTS\\tThe Outcome Measures in Rheumatology Clinical Trials-Osteoarthritis Research Society International responder rate was @ % in the intervention group and @ % in the placebo group ( p < @ ) .\\n',\n",
              " 'CONCLUSIONS\\tLow-dose oral prednisolone had both a short-term and a longer sustained effect resulting in less knee pain , better physical function , and attenuation of systemic inflammation in older patients with knee OA ( ClinicalTrials.gov identifier NCT@ ) .\\n',\n",
              " '\\n',\n",
              " '###24854809\\n',\n",
              " 'BACKGROUND\\tEmotional eating is associated with overeating and the development of obesity .\\n',\n",
              " 'BACKGROUND\\tYet , empirical evidence for individual ( trait ) differences in emotional eating and cognitive mechanisms that contribute to eating during sad mood remain equivocal .\\n',\n",
              " 'OBJECTIVE\\tThe aim of this study was to test if attention bias for food moderates the effect of self-reported emotional eating during sad mood ( vs neutral mood ) on actual food intake .\\n',\n",
              " 'OBJECTIVE\\tIt was expected that emotional eating is predictive of elevated attention for food and higher food intake after an experimentally induced sad mood and that attentional maintenance on food predicts food intake during a sad versus a neutral mood .\\n',\n",
              " 'METHODS\\tParticipants ( N = @ ) were randomly assigned to one of the two experimental mood induction conditions ( sad/neutral ) .\\n']"
            ]
          },
          "metadata": {},
          "execution_count": 8
        }
      ]
    },
    {
      "cell_type": "code",
      "source": [
        "len(train_lines)"
      ],
      "metadata": {
        "colab": {
          "base_uri": "https://localhost:8080/"
        },
        "id": "b8DCAhSlX9kc",
        "outputId": "97ab32ad-43af-41ca-c87a-0e6ec3f4635d"
      },
      "execution_count": null,
      "outputs": [
        {
          "output_type": "execute_result",
          "data": {
            "text/plain": [
              "210040"
            ]
          },
          "metadata": {},
          "execution_count": 9
        }
      ]
    },
    {
      "cell_type": "markdown",
      "source": [
        "# Let's think about how we want our data to look\n",
        "\n",
        "```\n",
        "[{'line_number': 0,\n",
        "    'target': 'BACKGROUND',\n",
        "    'text' : Emotional eating is a..... obesity.\\n\n",
        "    'total_lines':11}]\n",
        "```"
      ],
      "metadata": {
        "id": "qVjYjW1BYUC0"
      }
    },
    {
      "cell_type": "code",
      "source": [
        "def preprocess_text_with_line_number(filename):\n",
        "  \"\"\"\n",
        "  Returns a list of dictionary of abstract line data.\n",
        "\n",
        "  Takes in filename , reads it contents and sorts through each lines ,\n",
        "  extracting things like the target label , text of the sentence ,\n",
        "  how many sentences are in the current abstract and what sentence number the target line is\n",
        "\n",
        "  \"\"\"\n",
        "  input_lines = get_lines(filename)\n",
        "\n",
        "  abstract_lines =\"\"\n",
        "\n",
        "  abstract_samples =[]\n",
        "\n",
        "  for line in input_lines:\n",
        "    if(line.startswith(\"###\")):\n",
        "      abstract_id = line\n",
        "      abstract_lines = \"\"\n",
        "    elif line.isspace(): # Check to seee if line is new line\n",
        "      abstract_line_split = abstract_lines.splitlines() # split abstract int o separate lines\n",
        "      for  abstract_line_number , abstract_line in enumerate(abstract_line_split):\n",
        "        line_data ={}\n",
        "        target_text_split = abstract_line.split(\"\\t\") # split target label from text\n",
        "        line_data[\"line_number\"] = abstract_line_number\n",
        "        line_data[\"target\"] = target_text_split[0]\n",
        "        line_data[\"text\"] = target_text_split[1].lower()\n",
        "\n",
        "        line_data[\"total_lines\"] = len(abstract_line_split)-1\n",
        "        abstract_samples.append(line_data)\n",
        "\n",
        "    else: # if the above condition aren't fulfilled the line contains a labelled sentence\n",
        "      abstract_lines +=line\n",
        "\n",
        "\n",
        "  return abstract_samples\n",
        "\n",
        "\n",
        "\n",
        "\n",
        "\n",
        "\n",
        "\n"
      ],
      "metadata": {
        "id": "uCtieWS9YgQ0"
      },
      "execution_count": null,
      "outputs": []
    },
    {
      "cell_type": "code",
      "source": [
        "# Get data from file and preprocess it\n",
        "train_samples = preprocess_text_with_line_number(data_dir + \"train.txt\")\n",
        "val_samples = preprocess_text_with_line_number(data_dir + \"dev.txt\")\n",
        "test_samples = preprocess_text_with_line_number(data_dir + \"test.txt\")\n",
        "\n",
        "print(len(train_samples) , len(val_samples) , len(test_samples))"
      ],
      "metadata": {
        "colab": {
          "base_uri": "https://localhost:8080/"
        },
        "id": "8vsVwHA9bk1i",
        "outputId": "7b4141f6-9cdf-41f2-f10b-4bd1e354c3f3"
      },
      "execution_count": null,
      "outputs": [
        {
          "output_type": "stream",
          "name": "stdout",
          "text": [
            "180040 30212 30135\n"
          ]
        }
      ]
    },
    {
      "cell_type": "code",
      "source": [
        "train_samples[:10]"
      ],
      "metadata": {
        "colab": {
          "base_uri": "https://localhost:8080/"
        },
        "id": "w4WAKsyiiNEQ",
        "outputId": "75ae9279-9098-4440-9029-996272f477b0"
      },
      "execution_count": null,
      "outputs": [
        {
          "output_type": "execute_result",
          "data": {
            "text/plain": [
              "[{'line_number': 0,\n",
              "  'target': 'OBJECTIVE',\n",
              "  'text': 'to investigate the efficacy of @ weeks of daily low-dose oral prednisolone in improving pain , mobility , and systemic low-grade inflammation in the short term and whether the effect would be sustained at @ weeks in older adults with moderate to severe knee osteoarthritis ( oa ) .',\n",
              "  'total_lines': 11},\n",
              " {'line_number': 1,\n",
              "  'target': 'METHODS',\n",
              "  'text': 'a total of @ patients with primary knee oa were randomized @:@ ; @ received @ mg/day of prednisolone and @ received placebo for @ weeks .',\n",
              "  'total_lines': 11},\n",
              " {'line_number': 2,\n",
              "  'target': 'METHODS',\n",
              "  'text': 'outcome measures included pain reduction and improvement in function scores and systemic inflammation markers .',\n",
              "  'total_lines': 11},\n",
              " {'line_number': 3,\n",
              "  'target': 'METHODS',\n",
              "  'text': 'pain was assessed using the visual analog pain scale ( @-@ mm ) .',\n",
              "  'total_lines': 11},\n",
              " {'line_number': 4,\n",
              "  'target': 'METHODS',\n",
              "  'text': 'secondary outcome measures included the western ontario and mcmaster universities osteoarthritis index scores , patient global assessment ( pga ) of the severity of knee oa , and @-min walk distance ( @mwd ) .',\n",
              "  'total_lines': 11},\n",
              " {'line_number': 5,\n",
              "  'target': 'METHODS',\n",
              "  'text': 'serum levels of interleukin @ ( il-@ ) , il-@ , tumor necrosis factor ( tnf ) - , and high-sensitivity c-reactive protein ( hscrp ) were measured .',\n",
              "  'total_lines': 11},\n",
              " {'line_number': 6,\n",
              "  'target': 'RESULTS',\n",
              "  'text': 'there was a clinically relevant reduction in the intervention group compared to the placebo group for knee pain , physical function , pga , and @mwd at @ weeks .',\n",
              "  'total_lines': 11},\n",
              " {'line_number': 7,\n",
              "  'target': 'RESULTS',\n",
              "  'text': 'the mean difference between treatment arms ( @ % ci ) was @ ( @-@ @ ) , p < @ ; @ ( @-@ @ ) , p < @ ; @ ( @-@ @ ) , p < @ ; and @ ( @-@ @ ) , p < @ , respectively .',\n",
              "  'total_lines': 11},\n",
              " {'line_number': 8,\n",
              "  'target': 'RESULTS',\n",
              "  'text': 'further , there was a clinically relevant reduction in the serum levels of il-@ , il-@ , tnf - , and hscrp at @ weeks in the intervention group when compared to the placebo group .',\n",
              "  'total_lines': 11},\n",
              " {'line_number': 9,\n",
              "  'target': 'RESULTS',\n",
              "  'text': 'these differences remained significant at @ weeks .',\n",
              "  'total_lines': 11}]"
            ]
          },
          "metadata": {},
          "execution_count": 12
        }
      ]
    },
    {
      "cell_type": "markdown",
      "source": [
        "Now we've the data in the form of dictionary so we will use pandas DataFrame to visulize"
      ],
      "metadata": {
        "id": "XTjYwdHbj6Rf"
      }
    },
    {
      "cell_type": "code",
      "source": [
        "import pandas as pd\n",
        "\n",
        "train_df = pd.DataFrame(train_samples)\n",
        "test_df =pd.DataFrame(test_samples)\n",
        "val_df =pd.DataFrame(val_samples)\n",
        "train_df.head()"
      ],
      "metadata": {
        "colab": {
          "base_uri": "https://localhost:8080/",
          "height": 267
        },
        "id": "PNtHvJC-kE9z",
        "outputId": "25f03655-8eda-4ddd-fe6c-ce7c4f6643c3"
      },
      "execution_count": null,
      "outputs": [
        {
          "output_type": "execute_result",
          "data": {
            "text/plain": [
              "   line_number     target                                               text  \\\n",
              "0            0  OBJECTIVE  to investigate the efficacy of @ weeks of dail...   \n",
              "1            1    METHODS  a total of @ patients with primary knee oa wer...   \n",
              "2            2    METHODS  outcome measures included pain reduction and i...   \n",
              "3            3    METHODS  pain was assessed using the visual analog pain...   \n",
              "4            4    METHODS  secondary outcome measures included the wester...   \n",
              "\n",
              "   total_lines  \n",
              "0           11  \n",
              "1           11  \n",
              "2           11  \n",
              "3           11  \n",
              "4           11  "
            ],
            "text/html": [
              "\n",
              "\n",
              "  <div id=\"df-53dea7fa-d25e-4561-83ee-7bc555ab96e0\">\n",
              "    <div class=\"colab-df-container\">\n",
              "      <div>\n",
              "<style scoped>\n",
              "    .dataframe tbody tr th:only-of-type {\n",
              "        vertical-align: middle;\n",
              "    }\n",
              "\n",
              "    .dataframe tbody tr th {\n",
              "        vertical-align: top;\n",
              "    }\n",
              "\n",
              "    .dataframe thead th {\n",
              "        text-align: right;\n",
              "    }\n",
              "</style>\n",
              "<table border=\"1\" class=\"dataframe\">\n",
              "  <thead>\n",
              "    <tr style=\"text-align: right;\">\n",
              "      <th></th>\n",
              "      <th>line_number</th>\n",
              "      <th>target</th>\n",
              "      <th>text</th>\n",
              "      <th>total_lines</th>\n",
              "    </tr>\n",
              "  </thead>\n",
              "  <tbody>\n",
              "    <tr>\n",
              "      <th>0</th>\n",
              "      <td>0</td>\n",
              "      <td>OBJECTIVE</td>\n",
              "      <td>to investigate the efficacy of @ weeks of dail...</td>\n",
              "      <td>11</td>\n",
              "    </tr>\n",
              "    <tr>\n",
              "      <th>1</th>\n",
              "      <td>1</td>\n",
              "      <td>METHODS</td>\n",
              "      <td>a total of @ patients with primary knee oa wer...</td>\n",
              "      <td>11</td>\n",
              "    </tr>\n",
              "    <tr>\n",
              "      <th>2</th>\n",
              "      <td>2</td>\n",
              "      <td>METHODS</td>\n",
              "      <td>outcome measures included pain reduction and i...</td>\n",
              "      <td>11</td>\n",
              "    </tr>\n",
              "    <tr>\n",
              "      <th>3</th>\n",
              "      <td>3</td>\n",
              "      <td>METHODS</td>\n",
              "      <td>pain was assessed using the visual analog pain...</td>\n",
              "      <td>11</td>\n",
              "    </tr>\n",
              "    <tr>\n",
              "      <th>4</th>\n",
              "      <td>4</td>\n",
              "      <td>METHODS</td>\n",
              "      <td>secondary outcome measures included the wester...</td>\n",
              "      <td>11</td>\n",
              "    </tr>\n",
              "  </tbody>\n",
              "</table>\n",
              "</div>\n",
              "      <button class=\"colab-df-convert\" onclick=\"convertToInteractive('df-53dea7fa-d25e-4561-83ee-7bc555ab96e0')\"\n",
              "              title=\"Convert this dataframe to an interactive table.\"\n",
              "              style=\"display:none;\">\n",
              "\n",
              "  <svg xmlns=\"http://www.w3.org/2000/svg\" height=\"24px\"viewBox=\"0 0 24 24\"\n",
              "       width=\"24px\">\n",
              "    <path d=\"M0 0h24v24H0V0z\" fill=\"none\"/>\n",
              "    <path d=\"M18.56 5.44l.94 2.06.94-2.06 2.06-.94-2.06-.94-.94-2.06-.94 2.06-2.06.94zm-11 1L8.5 8.5l.94-2.06 2.06-.94-2.06-.94L8.5 2.5l-.94 2.06-2.06.94zm10 10l.94 2.06.94-2.06 2.06-.94-2.06-.94-.94-2.06-.94 2.06-2.06.94z\"/><path d=\"M17.41 7.96l-1.37-1.37c-.4-.4-.92-.59-1.43-.59-.52 0-1.04.2-1.43.59L10.3 9.45l-7.72 7.72c-.78.78-.78 2.05 0 2.83L4 21.41c.39.39.9.59 1.41.59.51 0 1.02-.2 1.41-.59l7.78-7.78 2.81-2.81c.8-.78.8-2.07 0-2.86zM5.41 20L4 18.59l7.72-7.72 1.47 1.35L5.41 20z\"/>\n",
              "  </svg>\n",
              "      </button>\n",
              "\n",
              "\n",
              "\n",
              "    <div id=\"df-b56c7d06-7c67-4bd0-8ad9-206750c8c598\">\n",
              "      <button class=\"colab-df-quickchart\" onclick=\"quickchart('df-b56c7d06-7c67-4bd0-8ad9-206750c8c598')\"\n",
              "              title=\"Suggest charts.\"\n",
              "              style=\"display:none;\">\n",
              "\n",
              "<svg xmlns=\"http://www.w3.org/2000/svg\" height=\"24px\"viewBox=\"0 0 24 24\"\n",
              "     width=\"24px\">\n",
              "    <g>\n",
              "        <path d=\"M19 3H5c-1.1 0-2 .9-2 2v14c0 1.1.9 2 2 2h14c1.1 0 2-.9 2-2V5c0-1.1-.9-2-2-2zM9 17H7v-7h2v7zm4 0h-2V7h2v10zm4 0h-2v-4h2v4z\"/>\n",
              "    </g>\n",
              "</svg>\n",
              "      </button>\n",
              "    </div>\n",
              "\n",
              "<style>\n",
              "  .colab-df-quickchart {\n",
              "    background-color: #E8F0FE;\n",
              "    border: none;\n",
              "    border-radius: 50%;\n",
              "    cursor: pointer;\n",
              "    display: none;\n",
              "    fill: #1967D2;\n",
              "    height: 32px;\n",
              "    padding: 0 0 0 0;\n",
              "    width: 32px;\n",
              "  }\n",
              "\n",
              "  .colab-df-quickchart:hover {\n",
              "    background-color: #E2EBFA;\n",
              "    box-shadow: 0px 1px 2px rgba(60, 64, 67, 0.3), 0px 1px 3px 1px rgba(60, 64, 67, 0.15);\n",
              "    fill: #174EA6;\n",
              "  }\n",
              "\n",
              "  [theme=dark] .colab-df-quickchart {\n",
              "    background-color: #3B4455;\n",
              "    fill: #D2E3FC;\n",
              "  }\n",
              "\n",
              "  [theme=dark] .colab-df-quickchart:hover {\n",
              "    background-color: #434B5C;\n",
              "    box-shadow: 0px 1px 3px 1px rgba(0, 0, 0, 0.15);\n",
              "    filter: drop-shadow(0px 1px 2px rgba(0, 0, 0, 0.3));\n",
              "    fill: #FFFFFF;\n",
              "  }\n",
              "</style>\n",
              "\n",
              "    <script>\n",
              "      async function quickchart(key) {\n",
              "        const containerElement = document.querySelector('#' + key);\n",
              "        const charts = await google.colab.kernel.invokeFunction(\n",
              "            'suggestCharts', [key], {});\n",
              "      }\n",
              "    </script>\n",
              "\n",
              "      <script>\n",
              "\n",
              "function displayQuickchartButton(domScope) {\n",
              "  let quickchartButtonEl =\n",
              "    domScope.querySelector('#df-b56c7d06-7c67-4bd0-8ad9-206750c8c598 button.colab-df-quickchart');\n",
              "  quickchartButtonEl.style.display =\n",
              "    google.colab.kernel.accessAllowed ? 'block' : 'none';\n",
              "}\n",
              "\n",
              "        displayQuickchartButton(document);\n",
              "      </script>\n",
              "      <style>\n",
              "    .colab-df-container {\n",
              "      display:flex;\n",
              "      flex-wrap:wrap;\n",
              "      gap: 12px;\n",
              "    }\n",
              "\n",
              "    .colab-df-convert {\n",
              "      background-color: #E8F0FE;\n",
              "      border: none;\n",
              "      border-radius: 50%;\n",
              "      cursor: pointer;\n",
              "      display: none;\n",
              "      fill: #1967D2;\n",
              "      height: 32px;\n",
              "      padding: 0 0 0 0;\n",
              "      width: 32px;\n",
              "    }\n",
              "\n",
              "    .colab-df-convert:hover {\n",
              "      background-color: #E2EBFA;\n",
              "      box-shadow: 0px 1px 2px rgba(60, 64, 67, 0.3), 0px 1px 3px 1px rgba(60, 64, 67, 0.15);\n",
              "      fill: #174EA6;\n",
              "    }\n",
              "\n",
              "    [theme=dark] .colab-df-convert {\n",
              "      background-color: #3B4455;\n",
              "      fill: #D2E3FC;\n",
              "    }\n",
              "\n",
              "    [theme=dark] .colab-df-convert:hover {\n",
              "      background-color: #434B5C;\n",
              "      box-shadow: 0px 1px 3px 1px rgba(0, 0, 0, 0.15);\n",
              "      filter: drop-shadow(0px 1px 2px rgba(0, 0, 0, 0.3));\n",
              "      fill: #FFFFFF;\n",
              "    }\n",
              "  </style>\n",
              "\n",
              "      <script>\n",
              "        const buttonEl =\n",
              "          document.querySelector('#df-53dea7fa-d25e-4561-83ee-7bc555ab96e0 button.colab-df-convert');\n",
              "        buttonEl.style.display =\n",
              "          google.colab.kernel.accessAllowed ? 'block' : 'none';\n",
              "\n",
              "        async function convertToInteractive(key) {\n",
              "          const element = document.querySelector('#df-53dea7fa-d25e-4561-83ee-7bc555ab96e0');\n",
              "          const dataTable =\n",
              "            await google.colab.kernel.invokeFunction('convertToInteractive',\n",
              "                                                     [key], {});\n",
              "          if (!dataTable) return;\n",
              "\n",
              "          const docLinkHtml = 'Like what you see? Visit the ' +\n",
              "            '<a target=\"_blank\" href=https://colab.research.google.com/notebooks/data_table.ipynb>data table notebook</a>'\n",
              "            + ' to learn more about interactive tables.';\n",
              "          element.innerHTML = '';\n",
              "          dataTable['output_type'] = 'display_data';\n",
              "          await google.colab.output.renderOutput(dataTable, element);\n",
              "          const docLink = document.createElement('div');\n",
              "          docLink.innerHTML = docLinkHtml;\n",
              "          element.appendChild(docLink);\n",
              "        }\n",
              "      </script>\n",
              "    </div>\n",
              "  </div>\n"
            ]
          },
          "metadata": {},
          "execution_count": 13
        }
      ]
    },
    {
      "cell_type": "code",
      "source": [
        "# Distribution of labels\n",
        "\n",
        "train_df.target.value_counts()"
      ],
      "metadata": {
        "colab": {
          "base_uri": "https://localhost:8080/"
        },
        "id": "2kmRvSLEkb1g",
        "outputId": "adc162f6-b429-449d-cbe6-67960ab41eee"
      },
      "execution_count": null,
      "outputs": [
        {
          "output_type": "execute_result",
          "data": {
            "text/plain": [
              "METHODS        59353\n",
              "RESULTS        57953\n",
              "CONCLUSIONS    27168\n",
              "BACKGROUND     21727\n",
              "OBJECTIVE      13839\n",
              "Name: target, dtype: int64"
            ]
          },
          "metadata": {},
          "execution_count": 14
        }
      ]
    },
    {
      "cell_type": "code",
      "source": [
        "# lets check length of different lines\n",
        "train_df.total_lines.plot.hist()"
      ],
      "metadata": {
        "colab": {
          "base_uri": "https://localhost:8080/",
          "height": 448
        },
        "id": "XX5YW-5rknG4",
        "outputId": "2412dd8d-8099-4e7f-8f02-4a7f8cc2d1c3"
      },
      "execution_count": null,
      "outputs": [
        {
          "output_type": "execute_result",
          "data": {
            "text/plain": [
              "<Axes: ylabel='Frequency'>"
            ]
          },
          "metadata": {},
          "execution_count": 15
        },
        {
          "output_type": "display_data",
          "data": {
            "text/plain": [
              "<Figure size 640x480 with 1 Axes>"
            ],
            "image/png": "[encoded data removed]"
          },
          "metadata": {}
        }
      ]
    },
    {
      "cell_type": "markdown",
      "source": [
        "### Gets list of Sentences\n"
      ],
      "metadata": {
        "id": "oMCbfGCNkzcx"
      }
    },
    {
      "cell_type": "code",
      "source": [
        "# Convert abstract text lines into list\n",
        "\n",
        "train_sentences = train_df[\"text\"].to_list()\n",
        "val_sentences = val_df[\"text\"].to_list()\n",
        "test_sentences = test_df[\"text\"].to_list()\n",
        "\n"
      ],
      "metadata": {
        "id": "lJvUGo0xk7rL"
      },
      "execution_count": null,
      "outputs": []
    },
    {
      "cell_type": "markdown",
      "source": [
        "## Making Numerical labels"
      ],
      "metadata": {
        "id": "Y98zHaDblqZ0"
      }
    },
    {
      "cell_type": "code",
      "source": [
        "# one hot encoding labels\n",
        "from sklearn.preprocessing import OneHotEncoder\n",
        "\n",
        "one_hot_encoder =OneHotEncoder(sparse =False)\n",
        "train_labels_one_hot =one_hot_encoder.fit_transform(train_df[\"target\"].to_numpy().reshape(-1,1))\n",
        "val_labels_one_hot =one_hot_encoder.transform(val_df[\"target\"].to_numpy().reshape(-1,1))\n",
        "test_labels_one_hot =one_hot_encoder.transform(test_df[\"target\"].to_numpy().reshape(-1,1))\n",
        "\n",
        "train_labels_one_hot"
      ],
      "metadata": {
        "colab": {
          "base_uri": "https://localhost:8080/"
        },
        "id": "GcMqUL7amQ_F",
        "outputId": "a3b0053d-50e5-4c1e-8026-3ec3e15f761d"
      },
      "execution_count": null,
      "outputs": [
        {
          "output_type": "stream",
          "name": "stderr",
          "text": [
            "/usr/local/lib/python3.10/dist-packages/sklearn/preprocessing/_encoders.py:868: FutureWarning: `sparse` was renamed to `sparse_output` in version 1.2 and will be removed in 1.4. `sparse_output` is ignored unless you leave `sparse` to its default value.\n",
            "  warnings.warn(\n"
          ]
        },
        {
          "output_type": "execute_result",
          "data": {
            "text/plain": [
              "array([[0., 0., 0., 1., 0.],\n",
              "       [0., 0., 1., 0., 0.],\n",
              "       [0., 0., 1., 0., 0.],\n",
              "       ...,\n",
              "       [0., 0., 0., 0., 1.],\n",
              "       [0., 1., 0., 0., 0.],\n",
              "       [0., 1., 0., 0., 0.]])"
            ]
          },
          "metadata": {},
          "execution_count": 17
        }
      ]
    },
    {
      "cell_type": "markdown",
      "source": [
        "### Label encode labels\n"
      ],
      "metadata": {
        "id": "uGxw93y-nTKb"
      }
    },
    {
      "cell_type": "code",
      "source": [
        "# Extract labels and encode them into integers\n",
        "\n",
        "from sklearn.preprocessing import LabelEncoder\n",
        "\n",
        "label_encoder = LabelEncoder()\n",
        "train_labels_encoded = label_encoder.fit_transform(train_df[\"target\"].to_numpy())\n",
        "val_labels_encoded = label_encoder.fit_transform(val_df[\"target\"].to_numpy())\n",
        "test_labels_encoded = label_encoder.fit_transform(test_df[\"target\"].to_numpy())\n",
        "\n",
        "\n",
        "train_labels_encoded"
      ],
      "metadata": {
        "colab": {
          "base_uri": "https://localhost:8080/"
        },
        "id": "y7GvYZoloAxW",
        "outputId": "95d3c2c8-5f6f-4406-8cd5-e5aed3c2daf0"
      },
      "execution_count": null,
      "outputs": [
        {
          "output_type": "execute_result",
          "data": {
            "text/plain": [
              "array([3, 2, 2, ..., 4, 1, 1])"
            ]
          },
          "metadata": {},
          "execution_count": 18
        }
      ]
    },
    {
      "cell_type": "code",
      "source": [
        "# Get class names and number of classes from Label Encoder instance\n",
        "num_classes = len(label_encoder.classes_)\n",
        "class_names = label_encoder.classes_\n",
        "num_classes , class_names\n"
      ],
      "metadata": {
        "colab": {
          "base_uri": "https://localhost:8080/"
        },
        "id": "NfChHYKgoafc",
        "outputId": "417c592d-d148-4020-d4f4-eca09bab4fe5"
      },
      "execution_count": null,
      "outputs": [
        {
          "output_type": "execute_result",
          "data": {
            "text/plain": [
              "(5,\n",
              " array(['BACKGROUND', 'CONCLUSIONS', 'METHODS', 'OBJECTIVE', 'RESULTS'],\n",
              "       dtype=object))"
            ]
          },
          "metadata": {},
          "execution_count": 19
        }
      ]
    },
    {
      "cell_type": "markdown",
      "source": [
        "## Model 0: Baseline Model( TF- IDF Multinomial Naive Bayes classifier)"
      ],
      "metadata": {
        "id": "aO9juthAo9XJ"
      }
    },
    {
      "cell_type": "code",
      "source": [
        "from sklearn.feature_extraction.text import TfidfVectorizer\n",
        "from sklearn.naive_bayes import MultinomialNB\n",
        "from sklearn.pipeline import Pipeline\n",
        "\n",
        "# Create a pipeline\n",
        "model_0 = Pipeline([\n",
        "    (\"tf-idf\" , TfidfVectorizer()),\n",
        "    (\"clf\" , MultinomialNB())\n",
        "])\n",
        "\n",
        "model_0.fit(X = train_sentences ,\n",
        "            y = train_labels_encoded)\n"
      ],
      "metadata": {
        "colab": {
          "base_uri": "https://localhost:8080/",
          "height": 125
        },
        "id": "i13Kb6yGpl4c",
        "outputId": "3e97619b-6932-4cfd-c02e-8acfd7a1cd8a"
      },
      "execution_count": null,
      "outputs": [
        {
          "output_type": "execute_result",
          "data": {
            "text/plain": [
              "Pipeline(steps=[('tf-idf', TfidfVectorizer()), ('clf', MultinomialNB())])"
            ],
            "text/html": [
              "<style>#sk-container-id-1 {color: black;background-color: white;}#sk-container-id-1 pre{padding: 0;}#sk-container-id-1 div.sk-toggleable {background-color: white;}#sk-container-id-1 label.sk-toggleable__label {cursor: pointer;display: block;width: 100%;margin-bottom: 0;padding: 0.3em;box-sizing: border-box;text-align: center;}#sk-container-id-1 label.sk-toggleable__label-arrow:before {content: \"▸\";float: left;margin-right: 0.25em;color: #696969;}#sk-container-id-1 label.sk-toggleable__label-arrow:hover:before {color: black;}#sk-container-id-1 div.sk-estimator:hover label.sk-toggleable__label-arrow:before {color: black;}#sk-container-id-1 div.sk-toggleable__content {max-height: 0;max-width: 0;overflow: hidden;text-align: left;background-color: #f0f8ff;}#sk-container-id-1 div.sk-toggleable__content pre {margin: 0.2em;color: black;border-radius: 0.25em;background-color: #f0f8ff;}#sk-container-id-1 input.sk-toggleable__control:checked~div.sk-toggleable__content {max-height: 200px;max-width: 100%;overflow: auto;}#sk-container-id-1 input.sk-toggleable__control:checked~label.sk-toggleable__label-arrow:before {content: \"▾\";}#sk-container-id-1 div.sk-estimator input.sk-toggleable__control:checked~label.sk-toggleable__label {background-color: #d4ebff;}#sk-container-id-1 div.sk-label input.sk-toggleable__control:checked~label.sk-toggleable__label {background-color: #d4ebff;}#sk-container-id-1 input.sk-hidden--visually {border: 0;clip: rect(1px 1px 1px 1px);clip: rect(1px, 1px, 1px, 1px);height: 1px;margin: -1px;overflow: hidden;padding: 0;position: absolute;width: 1px;}#sk-container-id-1 div.sk-estimator {font-family: monospace;background-color: #f0f8ff;border: 1px dotted black;border-radius: 0.25em;box-sizing: border-box;margin-bottom: 0.5em;}#sk-container-id-1 div.sk-estimator:hover {background-color: #d4ebff;}#sk-container-id-1 div.sk-parallel-item::after {content: \"\";width: 100%;border-bottom: 1px solid gray;flex-grow: 1;}#sk-container-id-1 div.sk-label:hover label.sk-toggleable__label {background-color: #d4ebff;}#sk-container-id-1 div.sk-serial::before {content: \"\";position: absolute;border-left: 1px solid gray;box-sizing: border-box;top: 0;bottom: 0;left: 50%;z-index: 0;}#sk-container-id-1 div.sk-serial {display: flex;flex-direction: column;align-items: center;background-color: white;padding-right: 0.2em;padding-left: 0.2em;position: relative;}#sk-container-id-1 div.sk-item {position: relative;z-index: 1;}#sk-container-id-1 div.sk-parallel {display: flex;align-items: stretch;justify-content: center;background-color: white;position: relative;}#sk-container-id-1 div.sk-item::before, #sk-container-id-1 div.sk-parallel-item::before {content: \"\";position: absolute;border-left: 1px solid gray;box-sizing: border-box;top: 0;bottom: 0;left: 50%;z-index: -1;}#sk-container-id-1 div.sk-parallel-item {display: flex;flex-direction: column;z-index: 1;position: relative;background-color: white;}#sk-container-id-1 div.sk-parallel-item:first-child::after {align-self: flex-end;width: 50%;}#sk-container-id-1 div.sk-parallel-item:last-child::after {align-self: flex-start;width: 50%;}#sk-container-id-1 div.sk-parallel-item:only-child::after {width: 0;}#sk-container-id-1 div.sk-dashed-wrapped {border: 1px dashed gray;margin: 0 0.4em 0.5em 0.4em;box-sizing: border-box;padding-bottom: 0.4em;background-color: white;}#sk-container-id-1 div.sk-label label {font-family: monospace;font-weight: bold;display: inline-block;line-height: 1.2em;}#sk-container-id-1 div.sk-label-container {text-align: center;}#sk-container-id-1 div.sk-container {/* jupyter's `normalize.less` sets `[hidden] { display: none; }` but bootstrap.min.css set `[hidden] { display: none !important; }` so we also need the `!important` here to be able to override the default hidden behavior on the sphinx rendered scikit-learn.org. See: https://github.com/scikit-learn/scikit-learn/issues/21755 */display: inline-block !important;position: relative;}#sk-container-id-1 div.sk-text-repr-fallback {display: none;}</style><div id=\"sk-container-id-1\" class=\"sk-top-container\"><div class=\"sk-text-repr-fallback\"><pre>Pipeline(steps=[(&#x27;tf-idf&#x27;, TfidfVectorizer()), (&#x27;clf&#x27;, MultinomialNB())])</pre><b>In a Jupyter environment, please rerun this cell to show the HTML representation or trust the notebook. <br />On GitHub, the HTML representation is unable to render, please try loading this page with nbviewer.org.</b></div><div class=\"sk-container\" hidden><div class=\"sk-item sk-dashed-wrapped\"><div class=\"sk-label-container\"><div class=\"sk-label sk-toggleable\"><input class=\"sk-toggleable__control sk-hidden--visually\" id=\"sk-estimator-id-1\" type=\"checkbox\" ><label for=\"sk-estimator-id-1\" class=\"sk-toggleable__label sk-toggleable__label-arrow\">Pipeline</label><div class=\"sk-toggleable__content\"><pre>Pipeline(steps=[(&#x27;tf-idf&#x27;, TfidfVectorizer()), (&#x27;clf&#x27;, MultinomialNB())])</pre></div></div></div><div class=\"sk-serial\"><div class=\"sk-item\"><div class=\"sk-estimator sk-toggleable\"><input class=\"sk-toggleable__control sk-hidden--visually\" id=\"sk-estimator-id-2\" type=\"checkbox\" ><label for=\"sk-estimator-id-2\" class=\"sk-toggleable__label sk-toggleable__label-arrow\">TfidfVectorizer</label><div class=\"sk-toggleable__content\"><pre>TfidfVectorizer()</pre></div></div></div><div class=\"sk-item\"><div class=\"sk-estimator sk-toggleable\"><input class=\"sk-toggleable__control sk-hidden--visually\" id=\"sk-estimator-id-3\" type=\"checkbox\" ><label for=\"sk-estimator-id-3\" class=\"sk-toggleable__label sk-toggleable__label-arrow\">MultinomialNB</label><div class=\"sk-toggleable__content\"><pre>MultinomialNB()</pre></div></div></div></div></div></div></div>"
            ]
          },
          "metadata": {},
          "execution_count": 20
        }
      ]
    },
    {
      "cell_type": "code",
      "source": [
        "# Evaluate baseline model on validation dataset\n",
        "model_0.score( val_sentences , val_labels_encoded)"
      ],
      "metadata": {
        "colab": {
          "base_uri": "https://localhost:8080/"
        },
        "id": "buYQj_ygqrX0",
        "outputId": "238c1487-7fd3-4069-85ca-b6aed5469fab"
      },
      "execution_count": null,
      "outputs": [
        {
          "output_type": "execute_result",
          "data": {
            "text/plain": [
              "0.7218323844829869"
            ]
          },
          "metadata": {},
          "execution_count": 21
        }
      ]
    },
    {
      "cell_type": "code",
      "source": [
        "baseline_preds = model_0.predict(val_sentences)"
      ],
      "metadata": {
        "id": "J8rr-FcEq_9e"
      },
      "execution_count": null,
      "outputs": []
    },
    {
      "cell_type": "markdown",
      "source": [
        "## Downloading the Helper Functions\n"
      ],
      "metadata": {
        "id": "OXwFseo9rRCR"
      }
    },
    {
      "cell_type": "code",
      "source": [
        "!wget https://raw.githubusercontent.com/mrdbourke/tensorflow-deep-learning/main/extras/helper_functions.py"
      ],
      "metadata": {
        "colab": {
          "base_uri": "https://localhost:8080/"
        },
        "id": "YomnOQKCra9T",
        "outputId": "f48541db-efcb-49b8-8c52-965d322450b5"
      },
      "execution_count": null,
      "outputs": [
        {
          "output_type": "stream",
          "name": "stdout",
          "text": [
            "--2023-07-29 15:56:20--  https://raw.githubusercontent.com/mrdbourke/tensorflow-deep-learning/main/extras/helper_functions.py\n",
            "Resolving raw.githubusercontent.com (raw.githubusercontent.com)... 185.199.108.133, 185.199.109.133, 185.199.110.133, ...\n",
            "Connecting to raw.githubusercontent.com (raw.githubusercontent.com)|185.199.108.133|:443... connected.\n",
            "HTTP request sent, awaiting response... 200 OK\n",
            "Length: 10246 (10K) [text/plain]\n",
            "Saving to: ‘helper_functions.py’\n",
            "\n",
            "\rhelper_functions.py   0%[                    ]       0  --.-KB/s               \rhelper_functions.py 100%[===================>]  10.01K  --.-KB/s    in 0s      \n",
            "\n",
            "2023-07-29 15:56:20 (103 MB/s) - ‘helper_functions.py’ saved [10246/10246]\n",
            "\n"
          ]
        }
      ]
    },
    {
      "cell_type": "code",
      "source": [
        "from helper_functions import calculate_results\n"
      ],
      "metadata": {
        "id": "faetvkTTrsaC"
      },
      "execution_count": null,
      "outputs": []
    },
    {
      "cell_type": "code",
      "source": [
        "baseline_results = calculate_results(val_labels_encoded , baseline_preds)"
      ],
      "metadata": {
        "id": "JrtUQeo6rzgn"
      },
      "execution_count": null,
      "outputs": []
    },
    {
      "cell_type": "code",
      "source": [
        "baseline_results"
      ],
      "metadata": {
        "colab": {
          "base_uri": "https://localhost:8080/"
        },
        "id": "gdKqqRUlsA4F",
        "outputId": "277f7468-db91-497c-e1a4-4bad4b229626"
      },
      "execution_count": null,
      "outputs": [
        {
          "output_type": "execute_result",
          "data": {
            "text/plain": [
              "{'accuracy': 72.1832384482987,\n",
              " 'precision': 0.7186466952323352,\n",
              " 'recall': 0.7218323844829869,\n",
              " 'f1': 0.6989250353450294}"
            ]
          },
          "metadata": {},
          "execution_count": 26
        }
      ]
    },
    {
      "cell_type": "markdown",
      "source": [
        "## Preparing our data (the text ) for deep sequence model\n",
        "before we start building models , we've got to create vectorization and embedding layers."
      ],
      "metadata": {
        "id": "Q01refOdsDKD"
      }
    },
    {
      "cell_type": "code",
      "source": [
        "import numpy as np\n",
        "import tensorflow as tf\n",
        "from tensorflow.keras import layers\n"
      ],
      "metadata": {
        "id": "dHKrfToh9z8T"
      },
      "execution_count": null,
      "outputs": []
    },
    {
      "cell_type": "code",
      "source": [
        "train_sentences[:10]"
      ],
      "metadata": {
        "colab": {
          "base_uri": "https://localhost:8080/"
        },
        "id": "I1Rr0e0f9-Sq",
        "outputId": "d948ff14-21c5-4d2d-d055-4d15018f8508"
      },
      "execution_count": null,
      "outputs": [
        {
          "output_type": "execute_result",
          "data": {
            "text/plain": [
              "['to investigate the efficacy of @ weeks of daily low-dose oral prednisolone in improving pain , mobility , and systemic low-grade inflammation in the short term and whether the effect would be sustained at @ weeks in older adults with moderate to severe knee osteoarthritis ( oa ) .',\n",
              " 'a total of @ patients with primary knee oa were randomized @:@ ; @ received @ mg/day of prednisolone and @ received placebo for @ weeks .',\n",
              " 'outcome measures included pain reduction and improvement in function scores and systemic inflammation markers .',\n",
              " 'pain was assessed using the visual analog pain scale ( @-@ mm ) .',\n",
              " 'secondary outcome measures included the western ontario and mcmaster universities osteoarthritis index scores , patient global assessment ( pga ) of the severity of knee oa , and @-min walk distance ( @mwd ) .',\n",
              " 'serum levels of interleukin @ ( il-@ ) , il-@ , tumor necrosis factor ( tnf ) - , and high-sensitivity c-reactive protein ( hscrp ) were measured .',\n",
              " 'there was a clinically relevant reduction in the intervention group compared to the placebo group for knee pain , physical function , pga , and @mwd at @ weeks .',\n",
              " 'the mean difference between treatment arms ( @ % ci ) was @ ( @-@ @ ) , p < @ ; @ ( @-@ @ ) , p < @ ; @ ( @-@ @ ) , p < @ ; and @ ( @-@ @ ) , p < @ , respectively .',\n",
              " 'further , there was a clinically relevant reduction in the serum levels of il-@ , il-@ , tnf - , and hscrp at @ weeks in the intervention group when compared to the placebo group .',\n",
              " 'these differences remained significant at @ weeks .']"
            ]
          },
          "metadata": {},
          "execution_count": 28
        }
      ]
    },
    {
      "cell_type": "code",
      "source": [
        "sent_lens = [len(sentence.split()) for sentence in train_sentences]\n",
        "avg_sent_len = np.mean(sent_lens)\n",
        "avg_sent_len"
      ],
      "metadata": {
        "colab": {
          "base_uri": "https://localhost:8080/"
        },
        "id": "o-3XAzvo-Ctm",
        "outputId": "4283d30e-e44b-43ac-efa7-5b0773fd292b"
      },
      "execution_count": null,
      "outputs": [
        {
          "output_type": "execute_result",
          "data": {
            "text/plain": [
              "26.338269273494777"
            ]
          },
          "metadata": {},
          "execution_count": 29
        }
      ]
    },
    {
      "cell_type": "code",
      "source": [
        "# Whats the distribution looks like\n",
        "import matplotlib.pyplot as plt\n",
        "plt.hist(sent_lens)"
      ],
      "metadata": {
        "colab": {
          "base_uri": "https://localhost:8080/",
          "height": 517
        },
        "id": "BZR2jR4C-5ac",
        "outputId": "d1f7d1b9-b88c-4849-f5ce-f64180c7f8d6"
      },
      "execution_count": null,
      "outputs": [
        {
          "output_type": "execute_result",
          "data": {
            "text/plain": [
              "(array([1.25846e+05, 4.78220e+04, 5.37600e+03, 7.86000e+02, 1.46000e+02,\n",
              "        3.20000e+01, 1.90000e+01, 8.00000e+00, 3.00000e+00, 2.00000e+00]),\n",
              " array([  1. ,  30.5,  60. ,  89.5, 119. , 148.5, 178. , 207.5, 237. ,\n",
              "        266.5, 296. ]),\n",
              " <BarContainer object of 10 artists>)"
            ]
          },
          "metadata": {},
          "execution_count": 30
        },
        {
          "output_type": "display_data",
          "data": {
            "text/plain": [
              "<Figure size 640x480 with 1 Axes>"
            ],
            "image/png": "[encoded data removed]"
          },
          "metadata": {}
        }
      ]
    },
    {
      "cell_type": "code",
      "source": [
        "# How long of a sentence length covers 95% of examples ?\n",
        "output_seq_len = int(np.percentile(sent_lens , 95))\n",
        "output_seq_len"
      ],
      "metadata": {
        "colab": {
          "base_uri": "https://localhost:8080/"
        },
        "id": "AOV_4akh_xJ_",
        "outputId": "536487e8-3fba-4865-ae82-056165e5355a"
      },
      "execution_count": null,
      "outputs": [
        {
          "output_type": "execute_result",
          "data": {
            "text/plain": [
              "55"
            ]
          },
          "metadata": {},
          "execution_count": 31
        }
      ]
    },
    {
      "cell_type": "code",
      "source": [],
      "metadata": {
        "id": "5ApmphkzCYFw"
      },
      "execution_count": null,
      "outputs": []
    },
    {
      "cell_type": "code",
      "source": [],
      "metadata": {
        "id": "gxDkLQiDCGMj"
      },
      "execution_count": null,
      "outputs": []
    },
    {
      "cell_type": "code",
      "source": [
        "# amx sequence length\n",
        "max(sent_lens)"
      ],
      "metadata": {
        "colab": {
          "base_uri": "https://localhost:8080/"
        },
        "id": "SCJqVzrxANKb",
        "outputId": "7a6bd866-a3d7-4fe2-bf15-01d9e9ca6912"
      },
      "execution_count": null,
      "outputs": [
        {
          "output_type": "execute_result",
          "data": {
            "text/plain": [
              "296"
            ]
          },
          "metadata": {},
          "execution_count": 32
        }
      ]
    },
    {
      "cell_type": "markdown",
      "source": [
        "## Creating a text vectorization layer"
      ],
      "metadata": {
        "id": "cFnM_H-XAVOM"
      }
    },
    {
      "cell_type": "code",
      "source": [
        "#  How many words are there in vocab ?\n",
        "max_tokens = 68000 # from paper"
      ],
      "metadata": {
        "id": "-UhimcmMBSGP"
      },
      "execution_count": null,
      "outputs": []
    },
    {
      "cell_type": "code",
      "source": [
        "from tensorflow.keras.layers.experimental.preprocessing import TextVectorization\n",
        "text_vectorizer = TextVectorization( max_tokens = max_tokens ,# number of words in vocabulary\n",
        "                                   output_sequence_length = output_seq_len) # desired output length of vectorized sequence\n"
      ],
      "metadata": {
        "id": "B7aVXUHsAjDi"
      },
      "execution_count": null,
      "outputs": []
    },
    {
      "cell_type": "code",
      "source": [
        "# Adapt text vectorizer to training sentences\n",
        "text_vectorizer.adapt(train_sentences)"
      ],
      "metadata": {
        "id": "h0xumSpEEBEu"
      },
      "execution_count": null,
      "outputs": []
    },
    {
      "cell_type": "code",
      "source": [
        "# Test out text vectorizer on random sentences\n",
        "import random\n",
        "target_sentence = random.choice(train_sentences)\n",
        "print(f\"Text: \\n{target_sentence}\")\n",
        "print(f\"\\n Length of text : {len(target_sentence)}\")\n",
        "print(f\"\\n Vectorized text : {text_vectorizer([target_sentence])}\")\n"
      ],
      "metadata": {
        "colab": {
          "base_uri": "https://localhost:8080/"
        },
        "id": "g-ZdZUabEK4I",
        "outputId": "3d1474b7-83b8-4764-c742-7a8fe63107e7"
      },
      "execution_count": null,
      "outputs": [
        {
          "output_type": "stream",
          "name": "stdout",
          "text": [
            "Text: \n",
            "the poly ( adp-ribose ) polymerase inhibitor olaparib has shown antitumour activity in patients with platinum-sensitive , recurrent , high-grade serous ovarian cancer with or without brca@ or brca@ mutations .\n",
            "\n",
            " Length of text : 209\n",
            "\n",
            " Vectorized text : [[    2 18147 41372  4062   738  6618   139   512 12815   190     5    12\n",
            "      7 10211   857  5074 11405  1630   135     7    16   159  6980    16\n",
            "   6980  2182     0     0     0     0     0     0     0     0     0     0\n",
            "      0     0     0     0     0     0     0     0     0     0     0     0\n",
            "      0     0     0     0     0     0     0]]\n"
          ]
        }
      ]
    },
    {
      "cell_type": "code",
      "source": [
        "# how many words in our training vocabulary\n",
        "rct_20k_text_vocab =text_vectorizer.get_vocabulary()\n",
        "print(f\"Number of words in vocab: {len(rct_20k_text_vocab)}\")\n",
        "print(f\"Most common words in vocab: {rct_20k_text_vocab[:5]}\")\n",
        "print(f\"Least common words in vocab: {rct_20k_text_vocab[-5:]}\")\n"
      ],
      "metadata": {
        "colab": {
          "base_uri": "https://localhost:8080/"
        },
        "id": "8yfm6sLPFOOu",
        "outputId": "f1728b91-523d-4f78-d102-b41d8c83e1e0"
      },
      "execution_count": null,
      "outputs": [
        {
          "output_type": "stream",
          "name": "stdout",
          "text": [
            "Number of words in vocab: 64841\n",
            "Most common words in vocab: ['', '[UNK]', 'the', 'and', 'of']\n",
            "Least common words in vocab: ['aainduced', 'aaigroup', 'aachener', 'aachen', 'aaacp']\n"
          ]
        }
      ]
    },
    {
      "cell_type": "code",
      "source": [
        "# get config of our text vectorizer\n",
        "text_vectorizer.get_config()"
      ],
      "metadata": {
        "colab": {
          "base_uri": "https://localhost:8080/"
        },
        "id": "JZcucGmZFzsT",
        "outputId": "8feff912-3e92-41ed-98ed-1be9737df0fb"
      },
      "execution_count": null,
      "outputs": [
        {
          "output_type": "execute_result",
          "data": {
            "text/plain": [
              "{'name': 'text_vectorization',\n",
              " 'trainable': True,\n",
              " 'dtype': 'string',\n",
              " 'batch_input_shape': (None,),\n",
              " 'max_tokens': 68000,\n",
              " 'standardize': 'lower_and_strip_punctuation',\n",
              " 'split': 'whitespace',\n",
              " 'ngrams': None,\n",
              " 'output_mode': 'int',\n",
              " 'output_sequence_length': 55,\n",
              " 'pad_to_max_tokens': False,\n",
              " 'sparse': False,\n",
              " 'ragged': False,\n",
              " 'vocabulary': None,\n",
              " 'idf_weights': None,\n",
              " 'encoding': 'utf-8',\n",
              " 'vocabulary_size': 64841}"
            ]
          },
          "metadata": {},
          "execution_count": 38
        }
      ]
    },
    {
      "cell_type": "markdown",
      "source": [
        "### Create a embeeding layer\n"
      ],
      "metadata": {
        "id": "DH-5wi1qGEha"
      }
    },
    {
      "cell_type": "code",
      "source": [
        "embedding = tf.keras.layers.Embedding(input_dim = len(rct_20k_text_vocab),\n",
        "                                      output_dim = 128 ,\n",
        "                                      mask_zero = True , # use masking to handle variable sequence length\n",
        "                                      name = \"token_embedding\"\n",
        "                                      )"
      ],
      "metadata": {
        "id": "_IkLHn44GJ-6"
      },
      "execution_count": null,
      "outputs": []
    },
    {
      "cell_type": "code",
      "source": [
        "print(f\"Sentence before vectorization:\\n {target_sentence}\\n\")\n",
        "vectorized_sentence = text_vectorizer([target_sentence])\n",
        "print(f\"Sentence after vectorization:\\n{vectorized_sentence}\")\n",
        "embedded_sentence = embedding(vectorized_sentence)\n",
        "print(f\"Embedded sentence:{embedded_sentence} \")\n",
        "print(f\"Sentence after embedding shape :{embedded_sentence.shape}\")"
      ],
      "metadata": {
        "colab": {
          "base_uri": "https://localhost:8080/"
        },
        "id": "sMTDxA4tHJDr",
        "outputId": "18b3e562-e077-47c4-a734-a450117516de"
      },
      "execution_count": null,
      "outputs": [
        {
          "output_type": "stream",
          "name": "stdout",
          "text": [
            "Sentence before vectorization:\n",
            " the poly ( adp-ribose ) polymerase inhibitor olaparib has shown antitumour activity in patients with platinum-sensitive , recurrent , high-grade serous ovarian cancer with or without brca@ or brca@ mutations .\n",
            "\n",
            "Sentence after vectorization:\n",
            "[[    2 18147 41372  4062   738  6618   139   512 12815   190     5    12\n",
            "      7 10211   857  5074 11405  1630   135     7    16   159  6980    16\n",
            "   6980  2182     0     0     0     0     0     0     0     0     0     0\n",
            "      0     0     0     0     0     0     0     0     0     0     0     0\n",
            "      0     0     0     0     0     0     0]]\n",
            "Embedded sentence:[[[-0.02793475 -0.03860072 -0.04744359 ...  0.01072931  0.03814108\n",
            "   -0.04390776]\n",
            "  [-0.01794804 -0.01065695 -0.04916709 ... -0.01745099  0.012011\n",
            "   -0.01537843]\n",
            "  [-0.04689921 -0.04074175 -0.04378203 ...  0.04422862  0.03226158\n",
            "   -0.01255767]\n",
            "  ...\n",
            "  [-0.01445936 -0.02974191  0.01767823 ... -0.036391   -0.02840061\n",
            "   -0.03747735]\n",
            "  [-0.01445936 -0.02974191  0.01767823 ... -0.036391   -0.02840061\n",
            "   -0.03747735]\n",
            "  [-0.01445936 -0.02974191  0.01767823 ... -0.036391   -0.02840061\n",
            "   -0.03747735]]] \n",
            "Sentence after embedding shape :(1, 55, 128)\n"
          ]
        }
      ]
    },
    {
      "cell_type": "markdown",
      "source": [
        "## Creating datasets (making sure our data loads as fast as possible )\n",
        "`tf.dataAPI`"
      ],
      "metadata": {
        "id": "TDKVA6jgISa9"
      }
    },
    {
      "cell_type": "code",
      "source": [
        "# Turn our data into tensorflow datasets\n",
        "\n",
        "train_dataset =  tf.data.Dataset.from_tensor_slices((train_sentences , train_labels_one_hot))\n",
        "\n",
        "valid_dataset =  tf.data.Dataset.from_tensor_slices((val_sentences , val_labels_one_hot))\n",
        "\n",
        "test_dataset =  tf.data.Dataset.from_tensor_slices((test_sentences , test_labels_one_hot))"
      ],
      "metadata": {
        "id": "qdpfBr7WJAp3"
      },
      "execution_count": null,
      "outputs": []
    },
    {
      "cell_type": "code",
      "source": [
        "train_dataset"
      ],
      "metadata": {
        "colab": {
          "base_uri": "https://localhost:8080/"
        },
        "id": "B8dG74gMJqDn",
        "outputId": "a45fe8a5-887e-4fb2-81af-17a2abece9ef"
      },
      "execution_count": null,
      "outputs": [
        {
          "output_type": "execute_result",
          "data": {
            "text/plain": [
              "<_TensorSliceDataset element_spec=(TensorSpec(shape=(), dtype=tf.string, name=None), TensorSpec(shape=(5,), dtype=tf.float64, name=None))>"
            ]
          },
          "metadata": {},
          "execution_count": 42
        }
      ]
    },
    {
      "cell_type": "code",
      "source": [
        "train_labels_one_hot.shape ,train_labels_one_hot[0]"
      ],
      "metadata": {
        "colab": {
          "base_uri": "https://localhost:8080/"
        },
        "id": "bEUGaZt_OJIC",
        "outputId": "59c379f3-3df5-43aa-f451-0d334597b897"
      },
      "execution_count": null,
      "outputs": [
        {
          "output_type": "execute_result",
          "data": {
            "text/plain": [
              "((180040, 5), array([0., 0., 0., 1., 0.]))"
            ]
          },
          "metadata": {},
          "execution_count": 43
        }
      ]
    },
    {
      "cell_type": "code",
      "source": [
        "# Take the TensorSliceDataset's and turn them into prefected datasets\n",
        "train_dataset = train_dataset.batch(32).prefetch(tf.data.AUTOTUNE)\n",
        "valid_dataset = valid_dataset.batch(32).prefetch(tf.data.AUTOTUNE)\n",
        "test_dataset = test_dataset.batch(32).prefetch(tf.data.AUTOTUNE)\n",
        "train_dataset"
      ],
      "metadata": {
        "colab": {
          "base_uri": "https://localhost:8080/"
        },
        "id": "BBGzlNq-Jt0o",
        "outputId": "bd1cd182-c6e0-41dc-ebf9-5fb7ab870847"
      },
      "execution_count": null,
      "outputs": [
        {
          "output_type": "execute_result",
          "data": {
            "text/plain": [
              "<_PrefetchDataset element_spec=(TensorSpec(shape=(None,), dtype=tf.string, name=None), TensorSpec(shape=(None, 5), dtype=tf.float64, name=None))>"
            ]
          },
          "metadata": {},
          "execution_count": 44
        }
      ]
    },
    {
      "cell_type": "markdown",
      "source": [
        "## Model 1: Conv1D with token embeddings"
      ],
      "metadata": {
        "id": "oycUROmjKipb"
      }
    },
    {
      "cell_type": "code",
      "source": [
        "len(train_dataset)"
      ],
      "metadata": {
        "colab": {
          "base_uri": "https://localhost:8080/"
        },
        "id": "_pOVInjiNZLY",
        "outputId": "8fb3dd4b-29de-49ef-f465-6a8eac43d7b1"
      },
      "execution_count": null,
      "outputs": [
        {
          "output_type": "execute_result",
          "data": {
            "text/plain": [
              "5627"
            ]
          },
          "metadata": {},
          "execution_count": 45
        }
      ]
    },
    {
      "cell_type": "code",
      "source": [
        "# Create 1d conv model to process sequences\n",
        "\n",
        "inputs = layers.Input(shape =(1,) , dtype = tf.string)\n",
        "text_vectors = text_vectorizer(inputs)\n",
        "token_embedding = embedding(text_vectors)\n",
        "\n",
        "x = layers.Conv1D(64 , kernel_size = 5 , padding =\"same\" , activation =\"relu\")(token_embedding)\n",
        "x = layers.GlobalAveragePooling1D()(x)\n",
        "outputs = layers.Dense(num_classes , activation =\"softmax\")(x)\n",
        "\n",
        "model_1 = tf.keras.Model(inputs , outputs)\n",
        "\n",
        "# compile\n",
        "model_1.compile(loss = \"categorical_crossentropy\" ,\n",
        "                optimizer = tf.keras.optimizers.Adam(),\n",
        "                metrics = [\"accuracy\"])\n",
        "\n",
        "\n"
      ],
      "metadata": {
        "id": "t83WSjx3LA3v"
      },
      "execution_count": null,
      "outputs": []
    },
    {
      "cell_type": "code",
      "source": [
        "model_1.summary()"
      ],
      "metadata": {
        "colab": {
          "base_uri": "https://localhost:8080/"
        },
        "id": "We4974-QPtOf",
        "outputId": "5460074f-14ef-4aff-c781-4fc73ccecc54"
      },
      "execution_count": null,
      "outputs": [
        {
          "output_type": "stream",
          "name": "stdout",
          "text": [
            "Model: \"model\"\n",
            "_________________________________________________________________\n",
            " Layer (type)                Output Shape              Param #   \n",
            "=================================================================\n",
            " input_1 (InputLayer)        [(None, 1)]               0         \n",
            "                                                                 \n",
            " text_vectorization (TextVec  (None, 55)               0         \n",
            " torization)                                                     \n",
            "                                                                 \n",
            " token_embedding (Embedding)  (None, 55, 128)          8299648   \n",
            "                                                                 \n",
            " conv1d (Conv1D)             (None, 55, 64)            41024     \n",
            "                                                                 \n",
            " global_average_pooling1d (G  (None, 64)               0         \n",
            " lobalAveragePooling1D)                                          \n",
            "                                                                 \n",
            " dense (Dense)               (None, 5)                 325       \n",
            "                                                                 \n",
            "=================================================================\n",
            "Total params: 8,340,997\n",
            "Trainable params: 8,340,997\n",
            "Non-trainable params: 0\n",
            "_________________________________________________________________\n"
          ]
        }
      ]
    },
    {
      "cell_type": "code",
      "source": [],
      "metadata": {
        "id": "wld-ss89P744"
      },
      "execution_count": null,
      "outputs": []
    },
    {
      "cell_type": "code",
      "source": [
        "history_1 = model_1.fit(train_dataset ,\n",
        "                        epochs = 3,\n",
        "                        steps_per_epoch =int(0.1*len(train_dataset)),\n",
        "                        validation_data = valid_dataset,\n",
        "                        validation_steps=int(0.1*len(valid_dataset)) # only validate on 10% batches\n",
        "                        )"
      ],
      "metadata": {
        "colab": {
          "base_uri": "https://localhost:8080/"
        },
        "id": "XrqY5j7gPrX-",
        "outputId": "e3c459c1-cabc-4eb9-c31f-79f842162bb9"
      },
      "execution_count": null,
      "outputs": [
        {
          "output_type": "stream",
          "name": "stdout",
          "text": [
            "Epoch 1/3\n",
            "562/562 [==============================] - 61s 90ms/step - loss: 0.9189 - accuracy: 0.6368 - val_loss: 0.6809 - val_accuracy: 0.7440\n",
            "Epoch 2/3\n",
            "562/562 [==============================] - 15s 26ms/step - loss: 0.6525 - accuracy: 0.7611 - val_loss: 0.6240 - val_accuracy: 0.7709\n",
            "Epoch 3/3\n",
            "562/562 [==============================] - 8s 14ms/step - loss: 0.6133 - accuracy: 0.7770 - val_loss: 0.5945 - val_accuracy: 0.7839\n"
          ]
        }
      ]
    },
    {
      "cell_type": "code",
      "source": [
        "model_1.evaluate(valid_dataset)"
      ],
      "metadata": {
        "colab": {
          "base_uri": "https://localhost:8080/"
        },
        "id": "FNgT_CjRR6-n",
        "outputId": "773ae721-1869-4a23-ba74-116cbee2cd12"
      },
      "execution_count": null,
      "outputs": [
        {
          "output_type": "stream",
          "name": "stdout",
          "text": [
            "945/945 [==============================] - 5s 5ms/step - loss: 0.5955 - accuracy: 0.7874\n"
          ]
        },
        {
          "output_type": "execute_result",
          "data": {
            "text/plain": [
              "[0.5954912900924683, 0.7873692512512207]"
            ]
          },
          "metadata": {},
          "execution_count": 49
        }
      ]
    },
    {
      "cell_type": "code",
      "source": [
        "model_1_pred_probs =model_1.predict(valid_dataset)\n",
        "model_1_pred_probs , model_1_pred_probs.shape"
      ],
      "metadata": {
        "colab": {
          "base_uri": "https://localhost:8080/"
        },
        "id": "iAmmnWQOR_Cw",
        "outputId": "da2396fd-e747-4a71-9e45-863a98905fa0"
      },
      "execution_count": null,
      "outputs": [
        {
          "output_type": "stream",
          "name": "stdout",
          "text": [
            "945/945 [==============================] - 3s 3ms/step\n"
          ]
        },
        {
          "output_type": "execute_result",
          "data": {
            "text/plain": [
              "(array([[4.3914899e-01, 1.6607210e-01, 9.2641883e-02, 2.7141267e-01,\n",
              "         3.0724332e-02],\n",
              "        [4.9022496e-01, 2.2363946e-01, 1.5710013e-02, 2.6250347e-01,\n",
              "         7.9220450e-03],\n",
              "        [1.3341144e-01, 6.8597980e-03, 1.0676550e-03, 8.5863686e-01,\n",
              "         2.4290413e-05],\n",
              "        ...,\n",
              "        [4.0150699e-06, 5.0886709e-04, 3.9985793e-04, 3.1070645e-06,\n",
              "         9.9908412e-01],\n",
              "        [5.1521037e-02, 4.2518562e-01, 1.3312127e-01, 6.7439511e-02,\n",
              "         3.2273248e-01],\n",
              "        [1.6555296e-01, 7.1600682e-01, 3.1292044e-02, 3.4869220e-02,\n",
              "         5.2278884e-02]], dtype=float32),\n",
              " (30212, 5))"
            ]
          },
          "metadata": {},
          "execution_count": 50
        }
      ]
    },
    {
      "cell_type": "code",
      "source": [
        "model_1_pred = tf.argmax(model_1_pred_probs , axis =1)\n",
        "model_1_pred"
      ],
      "metadata": {
        "colab": {
          "base_uri": "https://localhost:8080/"
        },
        "id": "pdt6JDQESzrU",
        "outputId": "e5068eba-39fe-4475-9240-839b9ee429b5"
      },
      "execution_count": null,
      "outputs": [
        {
          "output_type": "execute_result",
          "data": {
            "text/plain": [
              "<tf.Tensor: shape=(30212,), dtype=int64, numpy=array([0, 0, 3, ..., 4, 1, 1])>"
            ]
          },
          "metadata": {},
          "execution_count": 51
        }
      ]
    },
    {
      "cell_type": "code",
      "source": [
        "# calculate model_1 results\n",
        "model_1_results = calculate_results(y_true = val_labels_encoded , y_pred = model_1_pred)"
      ],
      "metadata": {
        "id": "D99dQX98S-B1"
      },
      "execution_count": null,
      "outputs": []
    },
    {
      "cell_type": "code",
      "source": [
        "model_1_results"
      ],
      "metadata": {
        "colab": {
          "base_uri": "https://localhost:8080/"
        },
        "id": "FHWYSmCyTWCy",
        "outputId": "ea4c5771-d18e-4fd4-d7f9-6da18e86ec17"
      },
      "execution_count": null,
      "outputs": [
        {
          "output_type": "execute_result",
          "data": {
            "text/plain": [
              "{'accuracy': 78.73692572487752,\n",
              " 'precision': 0.7840962067260441,\n",
              " 'recall': 0.7873692572487753,\n",
              " 'f1': 0.7847388528535986}"
            ]
          },
          "metadata": {},
          "execution_count": 53
        }
      ]
    },
    {
      "cell_type": "markdown",
      "source": [
        "### Model 2"
      ],
      "metadata": {
        "id": "Ixu_Utx8aMIW"
      }
    },
    {
      "cell_type": "markdown",
      "source": [
        "### TensorFlow feature extraction Model\n",
        "Model -2\n",
        "\n",
        "The paper originally used Glove Embedding but we will use universal sentence encoder\n",
        "https://tfhub.dev/google/universal-sentence-encoder/4"
      ],
      "metadata": {
        "id": "ViyyFSzoTX4n"
      }
    },
    {
      "cell_type": "code",
      "source": [
        "# Download pretrained TensorFlow Hub USE\n",
        "import tensorflow_hub as hub\n",
        "\n",
        "embedding_layer = hub.KerasLayer(\"https://tfhub.dev/google/universal-sentence-encoder/4\",\n",
        "                                 trainable = False ,\n",
        "                                 name = \"universal_sentence_encoder\")"
      ],
      "metadata": {
        "id": "zu_QMdNbTjy0"
      },
      "execution_count": null,
      "outputs": []
    },
    {
      "cell_type": "code",
      "source": [
        "# Test out pretrained embedding on a random sentence\n",
        "random_train_sentence = random.choice(train_sentences)\n",
        "print(f\"Random Sentence :\\n {random_train_sentence }\\n\")\n",
        "use_embedded_layer = embedding_layer([random_train_sentence])\n",
        "print(f\"Embedding :\\n {use_embedded_layer}\\n\")"
      ],
      "metadata": {
        "colab": {
          "base_uri": "https://localhost:8080/"
        },
        "id": "pwhj6HpE-mr4",
        "outputId": "da3ba580-8435-4e8a-ead9-03ed2d7dc556"
      },
      "execution_count": null,
      "outputs": [
        {
          "output_type": "stream",
          "name": "stdout",
          "text": [
            "Random Sentence :\n",
            " a total of @ insulin nave t@d patients with a glycated haemoglobin ( hba@c ) level of > @ % in the previous @months while treated with maximal oral therapy will be recruited and screened from @ primary care practices in melbourne , australia .\n",
            "\n",
            "Embedding :\n",
            " [[-0.06167687  0.06177733 -0.06413677 -0.06378554 -0.04480933 -0.03488617\n",
            "   0.03520672 -0.00367376  0.07405239 -0.00276613  0.08706523  0.05656193\n",
            "  -0.0500537   0.06952361  0.04772016  0.03079166 -0.08704296 -0.00970537\n",
            "  -0.06208821  0.04654246 -0.03823572  0.07736712  0.01333825  0.02695845\n",
            "   0.07585987  0.07764047 -0.01394559 -0.02142914 -0.02407107 -0.03857096\n",
            "  -0.04414008  0.08829357 -0.02961429  0.04839761  0.01402156 -0.01231481\n",
            "   0.02070307  0.00531124 -0.07193382  0.01295816 -0.04420404  0.02380088\n",
            "  -0.00437251 -0.07180227  0.03798198  0.06222788 -0.01852695 -0.00446234\n",
            "  -0.07835004 -0.02090537 -0.07089062 -0.00639053 -0.04166368 -0.05251575\n",
            "   0.022969   -0.04533266 -0.08205084 -0.08298326  0.07350744 -0.02790363\n",
            "  -0.00080724 -0.03874382  0.03238457  0.03170308 -0.03666417  0.02014893\n",
            "   0.06339034 -0.00778329 -0.00946344 -0.03527078 -0.03844141 -0.04236232\n",
            "   0.01242242  0.0421454  -0.05198682  0.05652301 -0.03857929 -0.03153165\n",
            "  -0.04372418  0.00266388 -0.00907982  0.04255572 -0.01755211  0.07546883\n",
            "  -0.0531991  -0.01273172  0.00291841  0.06754261  0.01349357 -0.07991944\n",
            "  -0.00234285  0.04997852 -0.00109739  0.00636716  0.02835231  0.06210666\n",
            "   0.04329291 -0.03665206 -0.00173428 -0.01847292  0.06891668 -0.03042915\n",
            "   0.04515602  0.03711863  0.04364185 -0.05526319 -0.01781638  0.06357706\n",
            "  -0.00670589 -0.02068089 -0.03060865  0.01639504 -0.0009889  -0.01340708\n",
            "   0.04015153  0.01479938 -0.04721724 -0.0579588   0.03424136 -0.00104122\n",
            "  -0.02756535 -0.05895468  0.01524078 -0.00871026  0.05598934  0.04241618\n",
            "   0.03574548  0.04462885 -0.03372742  0.00656412  0.0171927   0.0878633\n",
            "   0.06699885  0.01902018  0.0384633  -0.05473126 -0.01933655 -0.01775029\n",
            "   0.02387378  0.01640917 -0.02528792  0.0836168  -0.06077012 -0.00338724\n",
            "  -0.06034832 -0.03938833  0.01858772 -0.03438265 -0.01489605 -0.04356339\n",
            "   0.03629994 -0.0024595  -0.05192254  0.03546783  0.02943687  0.02032775\n",
            "  -0.03510835  0.08045194  0.04989432 -0.00746565 -0.07264479  0.01442658\n",
            "  -0.02364999 -0.03388681 -0.00845718  0.004106    0.03299321 -0.060985\n",
            "   0.05464159  0.05125133 -0.02891289 -0.0743106  -0.0408542   0.0631501\n",
            "   0.01604201 -0.0133609   0.04348047  0.00325055 -0.00508421 -0.01942484\n",
            "  -0.07812611 -0.06075561  0.06973741  0.02262325  0.05535307  0.04866816\n",
            "  -0.03626477  0.04159587 -0.0295838  -0.03044857 -0.04195379 -0.04798326\n",
            "  -0.0392889   0.0654845   0.02438236 -0.00262937  0.01121431 -0.02102442\n",
            "   0.03678015 -0.01712634 -0.08448588 -0.04716487 -0.02891701  0.05267527\n",
            "  -0.03675106  0.00615816  0.02053136  0.06004173  0.03436963 -0.03664302\n",
            "   0.01972054  0.05243346 -0.00117345  0.02395814 -0.07998245 -0.00046939\n",
            "   0.00478708  0.07415868 -0.03366832  0.01260939 -0.07832965  0.08306395\n",
            "   0.04089151 -0.00425642  0.06112089  0.06215347 -0.03705523 -0.01244331\n",
            "  -0.06202733  0.06709996  0.05007052  0.01356115 -0.01711589 -0.07996113\n",
            "   0.05003764 -0.06682176  0.0390515  -0.03404426 -0.03359913  0.03185176\n",
            "  -0.06238588  0.04397806  0.04457034 -0.00846937 -0.07313047 -0.02936175\n",
            "  -0.01119904 -0.01406454  0.06563109 -0.08652057  0.06879429 -0.06669635\n",
            "  -0.02757516 -0.00312432  0.00340678  0.04774769 -0.0579507   0.08162414\n",
            "  -0.0413889   0.06080648 -0.01660572 -0.04202223 -0.05497313  0.06919666\n",
            "  -0.02764979  0.05284621 -0.04670777  0.02749752 -0.0491881   0.06115845\n",
            "  -0.01624641  0.06885957  0.06314074 -0.07907047  0.0781226  -0.024517\n",
            "  -0.04718067  0.04867463  0.01913151  0.06455012  0.00358764  0.00917575\n",
            "   0.05779751 -0.05006164  0.02682946 -0.01785817 -0.05996303  0.03102172\n",
            "  -0.0374058  -0.04335056  0.05732402 -0.06244621 -0.04024804 -0.01191891\n",
            "  -0.05047029 -0.01980778 -0.0250576  -0.00823168  0.01118992  0.03364008\n",
            "   0.07720863 -0.07016202  0.03142096 -0.04325136 -0.07016879  0.03249856\n",
            "   0.02258505  0.00245098 -0.06274148 -0.03146107 -0.02555587 -0.02331151\n",
            "   0.03730058  0.03347048  0.01744092  0.00750086  0.01593416  0.01364486\n",
            "   0.01626759 -0.06868394 -0.06867423  0.00851218  0.05800007  0.00997785\n",
            "  -0.06088747  0.05118668 -0.02677569 -0.03261438 -0.07482439 -0.03902327\n",
            "   0.06597463 -0.03595146 -0.03052412  0.00139729  0.05582858 -0.0274223\n",
            "   0.00508587  0.02637923  0.00460441 -0.0395023  -0.01333662 -0.02541076\n",
            "   0.05480034  0.07258338  0.02740498 -0.04965679 -0.00128089  0.0051419\n",
            "  -0.04940623 -0.031217    0.04117161 -0.00195586 -0.06580886  0.03847396\n",
            "   0.07790717 -0.01437044 -0.06402909  0.03478656 -0.00347089  0.01102345\n",
            "   0.07551627 -0.04439049 -0.02018945 -0.07142079  0.01841055  0.05921306\n",
            "   0.0551388  -0.02125429 -0.0072114   0.02230016  0.05962664  0.0265206\n",
            "   0.03161039  0.04435397  0.02155207  0.01900465  0.03904823 -0.00046041\n",
            "   0.0215504  -0.04857988 -0.00709948  0.06742679 -0.07633355  0.05201857\n",
            "   0.01580511  0.03832404 -0.07802694 -0.07514247  0.06796557  0.07360511\n",
            "   0.00306849 -0.01234338 -0.05985588  0.03961218 -0.01367017  0.04957574\n",
            "   0.08102217 -0.00319144  0.04585261 -0.00707249  0.06569188 -0.00703074\n",
            "  -0.02914465 -0.05123474  0.00514828  0.05271283 -0.03597714 -0.05152819\n",
            "   0.03838794  0.01253884 -0.04902305  0.00966801  0.00918179 -0.05694085\n",
            "   0.05516213 -0.03671166  0.07734855  0.00812677 -0.04191077  0.00249261\n",
            "  -0.04445034 -0.02100736  0.07761098  0.02066422 -0.03932641 -0.04803766\n",
            "   0.05924223 -0.03947076  0.06239745 -0.00225775 -0.05343734 -0.04179017\n",
            "  -0.03596584  0.07754609  0.01821246 -0.01700553  0.04855909 -0.02736047\n",
            "   0.0124214  -0.01929864  0.04491221  0.0007571   0.00344243 -0.03014572\n",
            "  -0.04247462 -0.05309226 -0.03047256 -0.01935326 -0.02334845  0.04586799\n",
            "  -0.0624472  -0.08224024  0.02285032  0.02969235  0.04233815 -0.02220957\n",
            "  -0.01633788  0.07040395  0.00485365  0.00536868  0.04715217 -0.03641349\n",
            "   0.06315792 -0.01709862  0.02638305  0.04170542 -0.02214223 -0.04514086\n",
            "  -0.0654413  -0.05721331  0.04393725  0.02975442 -0.06483772  0.00643741\n",
            "  -0.05947767 -0.00539401 -0.06474265  0.01497119  0.0582628   0.04568755\n",
            "   0.00361618  0.02310894 -0.01678132 -0.0211386   0.06616035 -0.00752986\n",
            "   0.03410197 -0.00600389 -0.02949888 -0.07913502  0.00413036  0.00837201\n",
            "   0.01772771  0.00316272  0.01438793  0.05056291 -0.02215433 -0.0190029\n",
            "   0.05327053  0.07298036 -0.02090314 -0.03934149 -0.0026686  -0.08378913\n",
            "   0.02387073 -0.08813689  0.0466863  -0.04331692 -0.03070511 -0.01925892\n",
            "  -0.0098897  -0.06245132]]\n",
            "\n"
          ]
        }
      ]
    },
    {
      "cell_type": "code",
      "source": [
        "inputs = layers.Input(shape =[] , dtype = tf.string)\n",
        "x = embedding_layer(inputs) # tokenixe text and create a embedding\n",
        "x =layers.Dense(128 , activation =\"relu\")(x)\n",
        "output = layers.Dense(num_classes , activation =\"softmax\")(x)\n",
        "\n",
        "model_2 = tf.keras.Model(inputs , output )\n",
        "\n",
        "# compile the model\n",
        "\n",
        "model_2.compile(loss = \"categorical_crossentropy\" ,\n",
        "                optimizer = tf.keras.optimizers.Adam(),\n",
        "                metrics = [\"accuracy\"])"
      ],
      "metadata": {
        "id": "F3Cy9maF_s_C"
      },
      "execution_count": null,
      "outputs": []
    },
    {
      "cell_type": "code",
      "source": [
        "model_2.summary()"
      ],
      "metadata": {
        "colab": {
          "base_uri": "https://localhost:8080/"
        },
        "id": "kHSHYKaYA2VY",
        "outputId": "1333db4f-f289-4b20-848d-22d92dc05250"
      },
      "execution_count": null,
      "outputs": [
        {
          "output_type": "stream",
          "name": "stdout",
          "text": [
            "Model: \"model_1\"\n",
            "_________________________________________________________________\n",
            " Layer (type)                Output Shape              Param #   \n",
            "=================================================================\n",
            " input_2 (InputLayer)        [(None,)]                 0         \n",
            "                                                                 \n",
            " universal_sentence_encoder   (None, 512)              256797824 \n",
            " (KerasLayer)                                                    \n",
            "                                                                 \n",
            " dense_1 (Dense)             (None, 128)               65664     \n",
            "                                                                 \n",
            " dense_2 (Dense)             (None, 5)                 645       \n",
            "                                                                 \n",
            "=================================================================\n",
            "Total params: 256,864,133\n",
            "Trainable params: 66,309\n",
            "Non-trainable params: 256,797,824\n",
            "_________________________________________________________________\n"
          ]
        }
      ]
    },
    {
      "cell_type": "code",
      "source": [
        "train_dataset"
      ],
      "metadata": {
        "colab": {
          "base_uri": "https://localhost:8080/"
        },
        "id": "nQWTJbAOBnxP",
        "outputId": "452ea289-9b32-43de-d333-b9af51525952"
      },
      "execution_count": null,
      "outputs": [
        {
          "output_type": "execute_result",
          "data": {
            "text/plain": [
              "<_PrefetchDataset element_spec=(TensorSpec(shape=(None,), dtype=tf.string, name=None), TensorSpec(shape=(None, 5), dtype=tf.float64, name=None))>"
            ]
          },
          "metadata": {},
          "execution_count": 58
        }
      ]
    },
    {
      "cell_type": "code",
      "source": [
        "history_2 = model_2.fit(train_dataset,\n",
        "                     epochs = 3,\n",
        "                     steps_per_epoch = int(0.1*len(train_dataset)),\n",
        "                     validation_data = valid_dataset ,\n",
        "                     validation_steps = int(0.1*len(valid_dataset))\n",
        ")"
      ],
      "metadata": {
        "colab": {
          "base_uri": "https://localhost:8080/"
        },
        "id": "JzfmiuZKA3tw",
        "outputId": "beb670d2-e2b0-4598-98f8-32fa7482494e"
      },
      "execution_count": null,
      "outputs": [
        {
          "output_type": "stream",
          "name": "stdout",
          "text": [
            "Epoch 1/3\n",
            "562/562 [==============================] - 11s 15ms/step - loss: 0.9191 - accuracy: 0.6503 - val_loss: 0.7963 - val_accuracy: 0.6868\n",
            "Epoch 2/3\n",
            "562/562 [==============================] - 7s 12ms/step - loss: 0.7693 - accuracy: 0.7007 - val_loss: 0.7540 - val_accuracy: 0.7031\n",
            "Epoch 3/3\n",
            "562/562 [==============================] - 8s 14ms/step - loss: 0.7527 - accuracy: 0.7130 - val_loss: 0.7378 - val_accuracy: 0.7148\n"
          ]
        }
      ]
    },
    {
      "cell_type": "code",
      "source": [
        "# Evaluate on validation dataset\n",
        "\n",
        "model_2.evaluate(valid_dataset)"
      ],
      "metadata": {
        "colab": {
          "base_uri": "https://localhost:8080/"
        },
        "id": "1G93LZiTE5Lq",
        "outputId": "ceb94275-5bc8-4c36-8308-881fc54ddcef"
      },
      "execution_count": null,
      "outputs": [
        {
          "output_type": "stream",
          "name": "stdout",
          "text": [
            "945/945 [==============================] - 10s 11ms/step - loss: 0.7413 - accuracy: 0.7145\n"
          ]
        },
        {
          "output_type": "execute_result",
          "data": {
            "text/plain": [
              "[0.741288423538208, 0.7144511938095093]"
            ]
          },
          "metadata": {},
          "execution_count": 60
        }
      ]
    },
    {
      "cell_type": "code",
      "source": [
        "model_2_pred_probs = model_2.predict(valid_dataset)\n",
        "model_2_pred = tf.argmax(model_2_pred_probs , axis = 1)"
      ],
      "metadata": {
        "colab": {
          "base_uri": "https://localhost:8080/"
        },
        "id": "UkkMcSVWFBxj",
        "outputId": "89b57550-022e-436d-8149-e57750a8335d"
      },
      "execution_count": null,
      "outputs": [
        {
          "output_type": "stream",
          "name": "stdout",
          "text": [
            "945/945 [==============================] - 10s 11ms/step\n"
          ]
        }
      ]
    },
    {
      "cell_type": "code",
      "source": [
        "model_2_results = calculate_results(y_true = val_labels_encoded, y_pred = model_2_pred)"
      ],
      "metadata": {
        "id": "s-gpfySLFUbl"
      },
      "execution_count": null,
      "outputs": []
    },
    {
      "cell_type": "code",
      "source": [
        "model_2_results"
      ],
      "metadata": {
        "colab": {
          "base_uri": "https://localhost:8080/"
        },
        "id": "vDhmZ6H5Fklb",
        "outputId": "c43f9b24-4e09-4a18-caae-1baa29d6266d"
      },
      "execution_count": null,
      "outputs": [
        {
          "output_type": "execute_result",
          "data": {
            "text/plain": [
              "{'accuracy': 71.44512114391632,\n",
              " 'precision': 0.7147112044198205,\n",
              " 'recall': 0.7144512114391632,\n",
              " 'f1': 0.7113211322465057}"
            ]
          },
          "metadata": {},
          "execution_count": 63
        }
      ]
    },
    {
      "cell_type": "markdown",
      "source": [
        "# Model 3 - Conv1D with character embeddings\n",
        "\n",
        "Our research paper used character and token and character embedding\n",
        "our model 1 was based on token embedding"
      ],
      "metadata": {
        "id": "nKJBqHVDFmHX"
      }
    },
    {
      "cell_type": "markdown",
      "source": [
        "### Create a character - level vectorizer\n",
        "\n"
      ],
      "metadata": {
        "id": "XWuNqqepGINN"
      }
    },
    {
      "cell_type": "code",
      "source": [
        "train_sentences[:5]"
      ],
      "metadata": {
        "colab": {
          "base_uri": "https://localhost:8080/"
        },
        "id": "jEvKOmcJGdZW",
        "outputId": "bede0b1e-e74b-46fa-b3bd-11481f8d91ed"
      },
      "execution_count": null,
      "outputs": [
        {
          "output_type": "execute_result",
          "data": {
            "text/plain": [
              "['to investigate the efficacy of @ weeks of daily low-dose oral prednisolone in improving pain , mobility , and systemic low-grade inflammation in the short term and whether the effect would be sustained at @ weeks in older adults with moderate to severe knee osteoarthritis ( oa ) .',\n",
              " 'a total of @ patients with primary knee oa were randomized @:@ ; @ received @ mg/day of prednisolone and @ received placebo for @ weeks .',\n",
              " 'outcome measures included pain reduction and improvement in function scores and systemic inflammation markers .',\n",
              " 'pain was assessed using the visual analog pain scale ( @-@ mm ) .',\n",
              " 'secondary outcome measures included the western ontario and mcmaster universities osteoarthritis index scores , patient global assessment ( pga ) of the severity of knee oa , and @-min walk distance ( @mwd ) .']"
            ]
          },
          "metadata": {},
          "execution_count": 64
        }
      ]
    },
    {
      "cell_type": "code",
      "source": [
        "def split_chars(text):\n",
        "  return \" \".join(list(text))\n",
        "\n"
      ],
      "metadata": {
        "id": "H6wdAmSSGgBV"
      },
      "execution_count": null,
      "outputs": []
    },
    {
      "cell_type": "code",
      "source": [
        "hi = split_chars(\" HI i am chinmay\")"
      ],
      "metadata": {
        "id": "0_-Uj1aTG0s7"
      },
      "execution_count": null,
      "outputs": []
    },
    {
      "cell_type": "code",
      "source": [
        "\" \".join(list(train_sentences[0]))"
      ],
      "metadata": {
        "colab": {
          "base_uri": "https://localhost:8080/",
          "height": 140
        },
        "id": "gl2H6cyAG6mW",
        "outputId": "ab2f4221-07b5-486b-daf5-3cabea3343db"
      },
      "execution_count": null,
      "outputs": [
        {
          "output_type": "execute_result",
          "data": {
            "text/plain": [
              "'t o   i n v e s t i g a t e   t h e   e f f i c a c y   o f   @   w e e k s   o f   d a i l y   l o w - d o s e   o r a l   p r e d n i s o l o n e   i n   i m p r o v i n g   p a i n   ,   m o b i l i t y   ,   a n d   s y s t e m i c   l o w - g r a d e   i n f l a m m a t i o n   i n   t h e   s h o r t   t e r m   a n d   w h e t h e r   t h e   e f f e c t   w o u l d   b e   s u s t a i n e d   a t   @   w e e k s   i n   o l d e r   a d u l t s   w i t h   m o d e r a t e   t o   s e v e r e   k n e e   o s t e o a r t h r i t i s   (   o a   )   .'"
            ],
            "application/vnd.google.colaboratory.intrinsic+json": {
              "type": "string"
            }
          },
          "metadata": {},
          "execution_count": 67
        }
      ]
    },
    {
      "cell_type": "code",
      "source": [
        "train_chars = [split_chars(sentence) for sentence in train_sentences]\n",
        "val_chars = [split_chars (sentence ) for sentence in val_sentences]\n",
        "test_chars = [split_chars (sentence ) for sentence in test_sentences]\n",
        "train_chars"
      ],
      "metadata": {
        "id": "EUzNR6QlG7aN"
      },
      "execution_count": null,
      "outputs": []
    },
    {
      "cell_type": "code",
      "source": [
        "# Average character length\n",
        "chars_len = [len(sentence) for sentence in train_sentences]\n",
        "mean_char_len =np.mean(chars_len)"
      ],
      "metadata": {
        "id": "dVS1f6J8ICK3"
      },
      "execution_count": null,
      "outputs": []
    },
    {
      "cell_type": "code",
      "source": [
        "mean_char_len"
      ],
      "metadata": {
        "colab": {
          "base_uri": "https://localhost:8080/"
        },
        "id": "HeqyrdrGIhRz",
        "outputId": "aaacd671-85d4-4aa4-8ebb-9f77d585b8f6"
      },
      "execution_count": null,
      "outputs": [
        {
          "output_type": "execute_result",
          "data": {
            "text/plain": [
              "149.3662574983337"
            ]
          },
          "metadata": {},
          "execution_count": 70
        }
      ]
    },
    {
      "cell_type": "code",
      "source": [
        "# Check the distribution of char length\n",
        "plt.hist(chars_len , bins =7)"
      ],
      "metadata": {
        "colab": {
          "base_uri": "https://localhost:8080/",
          "height": 517
        },
        "id": "2Fl6fogwIi_P",
        "outputId": "f260713b-0bff-4efa-949d-a29cf3162d4a"
      },
      "execution_count": null,
      "outputs": [
        {
          "output_type": "execute_result",
          "data": {
            "text/plain": [
              "(array([1.41175e+05, 3.71110e+04, 1.60000e+03, 1.27000e+02, 2.10000e+01,\n",
              "        5.00000e+00, 1.00000e+00]),\n",
              " array([1.00000000e+00, 1.98857143e+02, 3.96714286e+02, 5.94571429e+02,\n",
              "        7.92428571e+02, 9.90285714e+02, 1.18814286e+03, 1.38600000e+03]),\n",
              " <BarContainer object of 7 artists>)"
            ]
          },
          "metadata": {},
          "execution_count": 71
        },
        {
          "output_type": "display_data",
          "data": {
            "text/plain": [
              "<Figure size 640x480 with 1 Axes>"
            ],
            "image/png": "[encoded data removed]"
          },
          "metadata": {}
        }
      ]
    },
    {
      "cell_type": "code",
      "source": [
        "# Find what chracter length covers 95% of sequence\n",
        "output_seq_char_len = int (np.percentile(chars_len , 95))\n",
        "output_seq_char_len"
      ],
      "metadata": {
        "colab": {
          "base_uri": "https://localhost:8080/"
        },
        "id": "-zTMxXfuIsSY",
        "outputId": "7bed89b6-22c6-48b3-ca58-25d209a5bfe9"
      },
      "execution_count": null,
      "outputs": [
        {
          "output_type": "execute_result",
          "data": {
            "text/plain": [
              "290"
            ]
          },
          "metadata": {},
          "execution_count": 72
        }
      ]
    },
    {
      "cell_type": "code",
      "source": [
        "# get all the keyboard characters\n",
        "random.choice(train_sentences)\n",
        "import string\n",
        "alphabet = string.ascii_lowercase + string.digits + string.punctuation\n",
        "alphabet"
      ],
      "metadata": {
        "colab": {
          "base_uri": "https://localhost:8080/",
          "height": 36
        },
        "id": "gvTfJRt0I7xG",
        "outputId": "9fe9c7ff-8b68-4916-da07-442c16632a2d"
      },
      "execution_count": null,
      "outputs": [
        {
          "output_type": "execute_result",
          "data": {
            "text/plain": [
              "'abcdefghijklmnopqrstuvwxyz0123456789!\"#$%&\\'()*+,-./:;<=>?@[\\\\]^_`{|}~'"
            ],
            "application/vnd.google.colaboratory.intrinsic+json": {
              "type": "string"
            }
          },
          "metadata": {},
          "execution_count": 73
        }
      ]
    },
    {
      "cell_type": "code",
      "source": [
        "# Create char-level token vectorizer instance\n",
        "NUM_CHAR_TOKENS = len(alphabet) +2  # add for space and [unk]\n",
        "char_vectorizer = TextVectorization(max_tokens = NUM_CHAR_TOKENS ,\n",
        "                                    output_sequence_length = output_seq_char_len,\n",
        "                                    #standardize = None,\n",
        "                                    name=\"char_vectorizer\")"
      ],
      "metadata": {
        "id": "kMsFT7X0JMyK"
      },
      "execution_count": null,
      "outputs": []
    },
    {
      "cell_type": "code",
      "source": [
        "# adapt character vectorizer to training character\n",
        "char_vectorizer.adapt(train_chars)"
      ],
      "metadata": {
        "id": "TKSIE0UFKC-n"
      },
      "execution_count": null,
      "outputs": []
    },
    {
      "cell_type": "code",
      "source": [
        "# Check character vocab\n",
        "char_vocab = char_vectorizer.get_vocabulary()\n",
        "print(f\"Number of diffrent character in vocab : {len(char_vocab)}\")\n",
        "print(f\"5 most common character : {char_vocab[:5]}\")\n",
        "print(f\"5 least common character : {char_vocab[-5:]}\")"
      ],
      "metadata": {
        "colab": {
          "base_uri": "https://localhost:8080/"
        },
        "id": "XrWspDdlKMDP",
        "outputId": "7ec8333e-3dae-4eda-ff66-84d686ab3716"
      },
      "execution_count": null,
      "outputs": [
        {
          "output_type": "stream",
          "name": "stdout",
          "text": [
            "Number of diffrent character in vocab : 28\n",
            "5 most common character : ['', '[UNK]', 'e', 't', 'i']\n",
            "5 least common character : ['k', 'x', 'z', 'q', 'j']\n"
          ]
        }
      ]
    },
    {
      "cell_type": "code",
      "source": [
        "# Test out character vectorizer\n",
        "random_train_chars = random.choice(train_chars)\n",
        "print(f\"Charified text:\\n {random_train_chars}\")\n",
        "print(f\"\\n Length of Random chars sentence:\\n {len(random_train_chars)}\")\n",
        "vectorized_char = char_vectorizer([random_train_chars])\n",
        "print(f\"\\nvectorized char:\\n {vectorized_char}\")\n",
        "print(f\"\\nvectorized chars length:\\n {len(vectorized_char[0])}\")\n"
      ],
      "metadata": {
        "colab": {
          "base_uri": "https://localhost:8080/"
        },
        "id": "0MR47_kYLOkJ",
        "outputId": "c1f39508-a3e8-4b00-93ed-e541fa12541c"
      },
      "execution_count": null,
      "outputs": [
        {
          "output_type": "stream",
          "name": "stdout",
          "text": [
            "Charified text:\n",
            " s e l f - m a n a g e m e n t   a p p r o a c h e s   a r e   n e e d e d   t o   a v o i d   c a t h e t e r - r e l a t e d   p r o b l e m s   .\n",
            "\n",
            " Length of Random chars sentence:\n",
            " 147\n",
            "\n",
            "vectorized char:\n",
            " [[ 9  2 12 17 15  5  6  5 18  2 15  2  6  3  5 14 14  8  7  5 11 13  2  9\n",
            "   5  8  2  6  2  2 10  2 10  3  7  5 21  7  4 10 11  5  3 13  2  3  2  8\n",
            "   8  2 12  5  3  2 10 14  8  7 22 12  2 15  9  0  0  0  0  0  0  0  0  0\n",
            "   0  0  0  0  0  0  0  0  0  0  0  0  0  0  0  0  0  0  0  0  0  0  0  0\n",
            "   0  0  0  0  0  0  0  0  0  0  0  0  0  0  0  0  0  0  0  0  0  0  0  0\n",
            "   0  0  0  0  0  0  0  0  0  0  0  0  0  0  0  0  0  0  0  0  0  0  0  0\n",
            "   0  0  0  0  0  0  0  0  0  0  0  0  0  0  0  0  0  0  0  0  0  0  0  0\n",
            "   0  0  0  0  0  0  0  0  0  0  0  0  0  0  0  0  0  0  0  0  0  0  0  0\n",
            "   0  0  0  0  0  0  0  0  0  0  0  0  0  0  0  0  0  0  0  0  0  0  0  0\n",
            "   0  0  0  0  0  0  0  0  0  0  0  0  0  0  0  0  0  0  0  0  0  0  0  0\n",
            "   0  0  0  0  0  0  0  0  0  0  0  0  0  0  0  0  0  0  0  0  0  0  0  0\n",
            "   0  0  0  0  0  0  0  0  0  0  0  0  0  0  0  0  0  0  0  0  0  0  0  0\n",
            "   0  0]]\n",
            "\n",
            "vectorized chars length:\n",
            " 290\n"
          ]
        }
      ]
    },
    {
      "cell_type": "markdown",
      "source": [
        "## char level embedding\n"
      ],
      "metadata": {
        "id": "w1aXpjYeMAhD"
      }
    },
    {
      "cell_type": "code",
      "source": [
        "char_embed = layers.Embedding(input_dim = len(char_vocab),\n",
        "                              output_dim = 25,\n",
        "                              mask_zero =True ,\n",
        "                              name = \"char_embed\")"
      ],
      "metadata": {
        "id": "e7ix1c2QPttI"
      },
      "execution_count": null,
      "outputs": []
    },
    {
      "cell_type": "code",
      "source": [
        "# Test our char level embedding\n",
        "\n",
        "print(f\"Charified Texr :\\n {random_train_chars}\")\n",
        "char_embed_example = char_embed(char_vectorizer([random_train_chars]))\n",
        "print(f\"\\n Embedded char:\\n {char_embed_example}\")\n",
        "print(f\"\\nvectorized chars shape:\\n {char_embed_example.shape}\")"
      ],
      "metadata": {
        "colab": {
          "base_uri": "https://localhost:8080/"
        },
        "id": "4iYgTD-VQG-8",
        "outputId": "feb287e8-66b8-49c9-ce5b-2d615ed1e041"
      },
      "execution_count": null,
      "outputs": [
        {
          "output_type": "stream",
          "name": "stdout",
          "text": [
            "Charified Texr :\n",
            " s e l f - m a n a g e m e n t   a p p r o a c h e s   a r e   n e e d e d   t o   a v o i d   c a t h e t e r - r e l a t e d   p r o b l e m s   .\n",
            "\n",
            " Embedded char:\n",
            " [[[-4.5270193e-02 -4.4128407e-02  1.0119665e-02 ...  2.1721367e-02\n",
            "   -4.7200181e-02  2.7862180e-02]\n",
            "  [-3.1439207e-02 -1.0847531e-02  4.4624928e-02 ... -2.5354326e-05\n",
            "   -4.9670853e-02 -7.6055527e-03]\n",
            "  [ 1.9531216e-02  5.1264167e-03  3.7248101e-02 ...  4.9660277e-02\n",
            "   -4.6617534e-02 -3.3841923e-02]\n",
            "  ...\n",
            "  [-1.8653095e-02  1.0618638e-02  3.4765724e-02 ... -3.6816381e-02\n",
            "   -3.6595929e-02 -1.8652391e-02]\n",
            "  [-1.8653095e-02  1.0618638e-02  3.4765724e-02 ... -3.6816381e-02\n",
            "   -3.6595929e-02 -1.8652391e-02]\n",
            "  [-1.8653095e-02  1.0618638e-02  3.4765724e-02 ... -3.6816381e-02\n",
            "   -3.6595929e-02 -1.8652391e-02]]]\n",
            "\n",
            "vectorized chars shape:\n",
            " (1, 290, 25)\n"
          ]
        }
      ]
    },
    {
      "cell_type": "markdown",
      "source": [
        "### Model -3 : With character embedding"
      ],
      "metadata": {
        "id": "cxY922e0Q8Ik"
      }
    },
    {
      "cell_type": "code",
      "source": [
        "inputs = layers.Input(shape =(1,) , dtype =\"string\")\n",
        "x = char_vectorizer(inputs)\n",
        "x = char_embed(x)\n",
        "x = layers.Conv1D(64 , kernel_size = 15 , padding =\"same\" , activation =\"relu\" )(x)\n",
        "x = layers.GlobalMaxPooling1D()(x)\n",
        "#x = layers.Dense(128 , activation =\"relu\")(x)\n",
        "outputs = layers.Dense(num_classes , activation =\"softmax\")(x)\n",
        "model_3 = tf.keras.Model(inputs , outputs)\n"
      ],
      "metadata": {
        "id": "B6POvN_ORH8m"
      },
      "execution_count": null,
      "outputs": []
    },
    {
      "cell_type": "code",
      "source": [
        "model_3.summary()"
      ],
      "metadata": {
        "colab": {
          "base_uri": "https://localhost:8080/"
        },
        "id": "r95Z4k7iSWQB",
        "outputId": "522ae136-62b6-42ec-9fdf-57ab753c6944"
      },
      "execution_count": null,
      "outputs": [
        {
          "output_type": "stream",
          "name": "stdout",
          "text": [
            "Model: \"model_2\"\n",
            "_________________________________________________________________\n",
            " Layer (type)                Output Shape              Param #   \n",
            "=================================================================\n",
            " input_3 (InputLayer)        [(None, 1)]               0         \n",
            "                                                                 \n",
            " char_vectorizer (TextVector  (None, 290)              0         \n",
            " ization)                                                        \n",
            "                                                                 \n",
            " char_embed (Embedding)      (None, 290, 25)           700       \n",
            "                                                                 \n",
            " conv1d_1 (Conv1D)           (None, 290, 64)           24064     \n",
            "                                                                 \n",
            " global_max_pooling1d (Globa  (None, 64)               0         \n",
            " lMaxPooling1D)                                                  \n",
            "                                                                 \n",
            " dense_3 (Dense)             (None, 5)                 325       \n",
            "                                                                 \n",
            "=================================================================\n",
            "Total params: 25,089\n",
            "Trainable params: 25,089\n",
            "Non-trainable params: 0\n",
            "_________________________________________________________________\n"
          ]
        }
      ]
    },
    {
      "cell_type": "code",
      "source": [
        "model_3.compile(loss = \"categorical_crossentropy\",\n",
        "                optimizer = tf.keras.optimizers.Adam(),\n",
        "\n",
        "                metrics = [\"accuracy\"])\n"
      ],
      "metadata": {
        "id": "-TdCt0jxSX9g"
      },
      "execution_count": null,
      "outputs": []
    },
    {
      "cell_type": "code",
      "source": [
        "# prefetch data set for char level dataset\n",
        "\n",
        "train_char_dataset = tf.data.Dataset.from_tensor_slices((train_chars,train_labels_one_hot)).batch(32).prefetch(tf.data.AUTOTUNE)\n",
        "val_char_dataset = tf.data.Dataset.from_tensor_slices((val_chars,val_labels_one_hot)).batch(32).prefetch(tf.data.AUTOTUNE)\n",
        "test_char_dataset = tf.data.Dataset.from_tensor_slices((test_chars,test_labels_one_hot)).batch(32).prefetch(tf.data.AUTOTUNE)\n",
        "\n"
      ],
      "metadata": {
        "id": "cPf4gFMDUmyK"
      },
      "execution_count": null,
      "outputs": []
    },
    {
      "cell_type": "code",
      "source": [
        "train_char_dataset"
      ],
      "metadata": {
        "colab": {
          "base_uri": "https://localhost:8080/"
        },
        "id": "dAb349EKVmX0",
        "outputId": "66d0689b-d07e-4ac3-f47f-68425286ce7f"
      },
      "execution_count": null,
      "outputs": [
        {
          "output_type": "execute_result",
          "data": {
            "text/plain": [
              "<_PrefetchDataset element_spec=(TensorSpec(shape=(None,), dtype=tf.string, name=None), TensorSpec(shape=(None, 5), dtype=tf.float64, name=None))>"
            ]
          },
          "metadata": {},
          "execution_count": 84
        }
      ]
    },
    {
      "cell_type": "code",
      "source": [
        "history_3 = model_3.fit(train_char_dataset ,\n",
        "                        epochs = 3,\n",
        "                        steps_per_epoch = int(0.1* len(train_char_dataset)),\n",
        "                        validation_data = val_char_dataset,\n",
        "                        validation_steps = int(0.1*len(val_char_dataset))),\n"
      ],
      "metadata": {
        "colab": {
          "base_uri": "https://localhost:8080/"
        },
        "id": "ov9wnISHSs5Y",
        "outputId": "9bae023c-5278-4f72-e739-1f2c63caa032"
      },
      "execution_count": null,
      "outputs": [
        {
          "output_type": "stream",
          "name": "stdout",
          "text": [
            "Epoch 1/3\n",
            "562/562 [==============================] - 8s 11ms/step - loss: 1.1973 - accuracy: 0.5136 - val_loss: 0.9657 - val_accuracy: 0.6207\n",
            "Epoch 2/3\n",
            "562/562 [==============================] - 5s 9ms/step - loss: 0.9166 - accuracy: 0.6410 - val_loss: 0.8389 - val_accuracy: 0.6752\n",
            "Epoch 3/3\n",
            "562/562 [==============================] - 6s 11ms/step - loss: 0.8389 - accuracy: 0.6749 - val_loss: 0.7797 - val_accuracy: 0.7061\n"
          ]
        }
      ]
    },
    {
      "cell_type": "code",
      "source": [
        "model_3_pred_probs = model_3.predict(val_char_dataset)"
      ],
      "metadata": {
        "colab": {
          "base_uri": "https://localhost:8080/"
        },
        "id": "1INVczV7WNeY",
        "outputId": "b69f97ed-6624-46c7-c5e9-f1b23a3ea1f2"
      },
      "execution_count": null,
      "outputs": [
        {
          "output_type": "stream",
          "name": "stdout",
          "text": [
            "945/945 [==============================] - 2s 3ms/step\n"
          ]
        }
      ]
    },
    {
      "cell_type": "code",
      "source": [
        "model_3_pred = tf.argmax(model_3_pred_probs , axis =1)"
      ],
      "metadata": {
        "id": "N8fDN1P-WT9M"
      },
      "execution_count": null,
      "outputs": []
    },
    {
      "cell_type": "code",
      "source": [
        "# calculate model results\n",
        "model_3_results = calculate_results(y_true = val_labels_encoded,\n",
        "                                    y_pred = model_3_pred)"
      ],
      "metadata": {
        "id": "OxYzTTx0WZ-A"
      },
      "execution_count": null,
      "outputs": []
    },
    {
      "cell_type": "code",
      "source": [
        "model_3_results"
      ],
      "metadata": {
        "colab": {
          "base_uri": "https://localhost:8080/"
        },
        "id": "QnOpZEdIWrIt",
        "outputId": "f6e66d71-d635-4467-9bb7-71f78e5786a4"
      },
      "execution_count": null,
      "outputs": [
        {
          "output_type": "execute_result",
          "data": {
            "text/plain": [
              "{'accuracy': 69.4095061564941,\n",
              " 'precision': 0.6860707731904779,\n",
              " 'recall': 0.694095061564941,\n",
              " 'f1': 0.6841448070756626}"
            ]
          },
          "metadata": {},
          "execution_count": 89
        }
      ]
    },
    {
      "cell_type": "markdown",
      "source": [
        "### Model 4 : Combining pretrained token embedding + characters embedding (hybrid)\n",
        "\n",
        "\n",
        "1. create a token - level embedding model\n",
        "2. create a character - level model\n",
        "3. combine 1 & 2 with a concatenate (`layers.concatenate`)"
      ],
      "metadata": {
        "id": "mSkzNlBEWsfO"
      }
    },
    {
      "cell_type": "code",
      "source": [
        "# 1. Token input model\n",
        "inputs_token = layers.Input(shape = [], dtype = \"string\" , name =\"token_input\")\n",
        "token_embeddings = embedding_layer(inputs_token)\n",
        "token_output = layers.Dense(128 , activation =\"relu\")(token_embeddings)\n",
        "token_model = tf.keras.Model(inputs_token ,token_output )\n",
        "\n",
        "\n",
        "# 2. Char input model\n",
        "inputs_char = layers.Input(shape = (1,) , dtype =\"string\")\n",
        "char_V = char_vectorizer(inputs_char)\n",
        "char_embedding = char_embed(char_V)\n",
        "char_bi_LSTM = layers.Bidirectional(layers.LSTM(24))(char_embedding)\n",
        "char_model = tf.keras.Model(inputs_char , char_bi_LSTM)\n",
        "\n",
        "# 3. Concatenate token and cahr inputs\n",
        "token_char_concat = layers.concatenate([token_model.output,\n",
        "                                                         char_model.output])\n",
        "\n",
        "# 4. series of layers\n",
        "\n",
        "combined_dropout = layers.Dropout(0.5)(token_char_concat)\n",
        "combined_dense = layers.Dense(128 , activation =\"relu\")(combined_dropout)\n",
        "combined_dropout = layers.Dropout(0.5)(combined_dense)\n",
        "outputs = layers.Dense(num_classes , activation =\"softmax\")(combined_dropout)\n",
        "model_4 = tf.keras.Model(inputs = [token_model.input , char_model.input] , outputs= outputs ,\n",
        "                         name = \"model_4_token_and_char_embedding\")\n",
        "\n",
        "\n",
        "\n"
      ],
      "metadata": {
        "id": "HsBMyBzbXhH9"
      },
      "execution_count": null,
      "outputs": []
    },
    {
      "cell_type": "code",
      "source": [
        "model_4.summary()"
      ],
      "metadata": {
        "colab": {
          "base_uri": "https://localhost:8080/"
        },
        "id": "nHJp53OWZobK",
        "outputId": "255dbeb4-0223-4fb2-e81f-abfccda543d1"
      },
      "execution_count": null,
      "outputs": [
        {
          "output_type": "stream",
          "name": "stdout",
          "text": [
            "Model: \"model_4_token_and_char_embedding\"\n",
            "__________________________________________________________________________________________________\n",
            " Layer (type)                   Output Shape         Param #     Connected to                     \n",
            "==================================================================================================\n",
            " input_4 (InputLayer)           [(None, 1)]          0           []                               \n",
            "                                                                                                  \n",
            " token_input (InputLayer)       [(None,)]            0           []                               \n",
            "                                                                                                  \n",
            " char_vectorizer (TextVectoriza  (None, 290)         0           ['input_4[0][0]']                \n",
            " tion)                                                                                            \n",
            "                                                                                                  \n",
            " universal_sentence_encoder (Ke  (None, 512)         256797824   ['token_input[0][0]']            \n",
            " rasLayer)                                                                                        \n",
            "                                                                                                  \n",
            " char_embed (Embedding)         (None, 290, 25)      700         ['char_vectorizer[1][0]']        \n",
            "                                                                                                  \n",
            " dense_4 (Dense)                (None, 128)          65664       ['universal_sentence_encoder[1][0\n",
            "                                                                 ]']                              \n",
            "                                                                                                  \n",
            " bidirectional (Bidirectional)  (None, 48)           9600        ['char_embed[1][0]']             \n",
            "                                                                                                  \n",
            " concatenate (Concatenate)      (None, 176)          0           ['dense_4[0][0]',                \n",
            "                                                                  'bidirectional[0][0]']          \n",
            "                                                                                                  \n",
            " dropout (Dropout)              (None, 176)          0           ['concatenate[0][0]']            \n",
            "                                                                                                  \n",
            " dense_5 (Dense)                (None, 128)          22656       ['dropout[0][0]']                \n",
            "                                                                                                  \n",
            " dropout_1 (Dropout)            (None, 128)          0           ['dense_5[0][0]']                \n",
            "                                                                                                  \n",
            " dense_6 (Dense)                (None, 5)            645         ['dropout_1[0][0]']              \n",
            "                                                                                                  \n",
            "==================================================================================================\n",
            "Total params: 256,897,089\n",
            "Trainable params: 99,265\n",
            "Non-trainable params: 256,797,824\n",
            "__________________________________________________________________________________________________\n"
          ]
        }
      ]
    },
    {
      "cell_type": "code",
      "source": [
        "from keras.utils import plot_model\n",
        "plot_model(model_4 , show_shapes =True)"
      ],
      "metadata": {
        "colab": {
          "base_uri": "https://localhost:8080/",
          "height": 808
        },
        "id": "ZXntDCVodxmq",
        "outputId": "614cf2f3-8b1d-4cce-e4b8-963618e4e19e"
      },
      "execution_count": null,
      "outputs": [
        {
          "output_type": "execute_result",
          "data": {
            "image/png": "[encoded data removed]",
            "text/plain": [
              "<IPython.core.display.Image object>"
            ]
          },
          "metadata": {},
          "execution_count": 92
        }
      ]
    },
    {
      "cell_type": "code",
      "source": [
        "model_4.compile(loss = \"categorical_crossentropy\" ,\n",
        "                optimizer= tf.keras.optimizers.Adam(),\n",
        "                metrics = [\"accuracy\"])\n",
        "\n"
      ],
      "metadata": {
        "id": "O92Huj5oeSAh"
      },
      "execution_count": null,
      "outputs": []
    },
    {
      "cell_type": "code",
      "source": [
        "train_dataset =  tf.data.Dataset.from_tensor_slices(((train_sentences , train_chars) , train_labels_one_hot)).batch(32).prefetch(tf.data.AUTOTUNE)\n",
        "\n",
        "valid_dataset =  tf.data.Dataset.from_tensor_slices(((val_sentences, val_chars) , val_labels_one_hot)).batch(32).prefetch(tf.data.AUTOTUNE)\n",
        "\n",
        "test_dataset =  tf.data.Dataset.from_tensor_slices(((test_sentences, test_chars) , test_labels_one_hot)).batch(32).prefetch(tf.data.AUTOTUNE)"
      ],
      "metadata": {
        "id": "6lse24h2fU0J"
      },
      "execution_count": null,
      "outputs": []
    },
    {
      "cell_type": "code",
      "source": [
        "histoty_4 = model_4.fit(train_dataset ,\n",
        "                        epochs = 3,\n",
        "                        steps_per_epoch =int(0.1*len(train_dataset)),\n",
        "                        validation_data = valid_dataset,\n",
        "                        validation_steps=int(0.1*len(valid_dataset)) # only validate on 10% batches\n",
        "                        )"
      ],
      "metadata": {
        "colab": {
          "base_uri": "https://localhost:8080/"
        },
        "id": "iVsm-9cBgEbW",
        "outputId": "3011d6fc-75ca-48a0-8fb2-f597688c90d7"
      },
      "execution_count": null,
      "outputs": [
        {
          "output_type": "stream",
          "name": "stdout",
          "text": [
            "Epoch 1/3\n",
            "562/562 [==============================] - 51s 66ms/step - loss: 0.9811 - accuracy: 0.6104 - val_loss: 0.7820 - val_accuracy: 0.6985\n",
            "Epoch 2/3\n",
            "562/562 [==============================] - 28s 50ms/step - loss: 0.8020 - accuracy: 0.6883 - val_loss: 0.7128 - val_accuracy: 0.7311\n",
            "Epoch 3/3\n",
            "562/562 [==============================] - 25s 44ms/step - loss: 0.7801 - accuracy: 0.7037 - val_loss: 0.6891 - val_accuracy: 0.7387\n"
          ]
        }
      ]
    },
    {
      "cell_type": "code",
      "source": [
        "model_4.evaluate(valid_dataset)\n"
      ],
      "metadata": {
        "colab": {
          "base_uri": "https://localhost:8080/"
        },
        "id": "MwBcCVo_gSEW",
        "outputId": "a2e8a021-0ef1-4619-fb88-3bbabd8a7160"
      },
      "execution_count": null,
      "outputs": [
        {
          "output_type": "stream",
          "name": "stdout",
          "text": [
            "945/945 [==============================] - 24s 26ms/step - loss: 0.6964 - accuracy: 0.7356\n"
          ]
        },
        {
          "output_type": "execute_result",
          "data": {
            "text/plain": [
              "[0.696376621723175, 0.735568642616272]"
            ]
          },
          "metadata": {},
          "execution_count": 96
        }
      ]
    },
    {
      "cell_type": "code",
      "source": [
        "model_4_pred_probs = model_4.predict(valid_dataset)\n",
        "model_4_pred = tf.argmax(model_4_pred_probs,axis =1)\n"
      ],
      "metadata": {
        "colab": {
          "base_uri": "https://localhost:8080/"
        },
        "id": "vxj_MEGEgdhY",
        "outputId": "f60cdcee-42e3-4059-951d-524adc157c95"
      },
      "execution_count": null,
      "outputs": [
        {
          "output_type": "stream",
          "name": "stdout",
          "text": [
            "945/945 [==============================] - 32s 29ms/step\n"
          ]
        }
      ]
    },
    {
      "cell_type": "code",
      "source": [
        "model_4_results = calculate_results(val_labels_encoded,model_4_pred)"
      ],
      "metadata": {
        "id": "ApyB1CLbgxkw"
      },
      "execution_count": null,
      "outputs": []
    },
    {
      "cell_type": "code",
      "source": [
        "model_4_results"
      ],
      "metadata": {
        "colab": {
          "base_uri": "https://localhost:8080/"
        },
        "id": "4CkqZ35FhTip",
        "outputId": "cf9418b2-2386-4f2a-fb57-dafd6651b865"
      },
      "execution_count": null,
      "outputs": [
        {
          "output_type": "execute_result",
          "data": {
            "text/plain": [
              "{'accuracy': 73.55686482192506,\n",
              " 'precision': 0.7358567182625645,\n",
              " 'recall': 0.7355686482192506,\n",
              " 'f1': 0.7322209179982454}"
            ]
          },
          "metadata": {},
          "execution_count": 99
        }
      ]
    },
    {
      "cell_type": "code",
      "source": [
        "baseline_results\n"
      ],
      "metadata": {
        "colab": {
          "base_uri": "https://localhost:8080/"
        },
        "id": "RUqIQjZdhUmX",
        "outputId": "9b2b9a04-de5e-4f6d-8df5-7f93f057a3b3"
      },
      "execution_count": null,
      "outputs": [
        {
          "output_type": "execute_result",
          "data": {
            "text/plain": [
              "{'accuracy': 72.1832384482987,\n",
              " 'precision': 0.7186466952323352,\n",
              " 'recall': 0.7218323844829869,\n",
              " 'f1': 0.6989250353450294}"
            ]
          },
          "metadata": {},
          "execution_count": 100
        }
      ]
    },
    {
      "cell_type": "markdown",
      "source": [
        "### Model 5: Pretrained token embeddings + character embeddings + positional embeddings\n"
      ],
      "metadata": {
        "id": "lO6NkucKhZ4C"
      }
    },
    {
      "cell_type": "code",
      "source": [
        "train_df.head()"
      ],
      "metadata": {
        "colab": {
          "base_uri": "https://localhost:8080/",
          "height": 267
        },
        "id": "gYHva8GN_xv9",
        "outputId": "2b4bd9ce-04c9-4bc4-db3c-b6db6bf5ddae"
      },
      "execution_count": null,
      "outputs": [
        {
          "output_type": "execute_result",
          "data": {
            "text/plain": [
              "   line_number     target                                               text  \\\n",
              "0            0  OBJECTIVE  to investigate the efficacy of @ weeks of dail...   \n",
              "1            1    METHODS  a total of @ patients with primary knee oa wer...   \n",
              "2            2    METHODS  outcome measures included pain reduction and i...   \n",
              "3            3    METHODS  pain was assessed using the visual analog pain...   \n",
              "4            4    METHODS  secondary outcome measures included the wester...   \n",
              "\n",
              "   total_lines  \n",
              "0           11  \n",
              "1           11  \n",
              "2           11  \n",
              "3           11  \n",
              "4           11  "
            ],
            "text/html": [
              "\n",
              "\n",
              "  <div id=\"df-9056a422-3825-4792-b6d3-cca44b1fb62c\">\n",
              "    <div class=\"colab-df-container\">\n",
              "      <div>\n",
              "<style scoped>\n",
              "    .dataframe tbody tr th:only-of-type {\n",
              "        vertical-align: middle;\n",
              "    }\n",
              "\n",
              "    .dataframe tbody tr th {\n",
              "        vertical-align: top;\n",
              "    }\n",
              "\n",
              "    .dataframe thead th {\n",
              "        text-align: right;\n",
              "    }\n",
              "</style>\n",
              "<table border=\"1\" class=\"dataframe\">\n",
              "  <thead>\n",
              "    <tr style=\"text-align: right;\">\n",
              "      <th></th>\n",
              "      <th>line_number</th>\n",
              "      <th>target</th>\n",
              "      <th>text</th>\n",
              "      <th>total_lines</th>\n",
              "    </tr>\n",
              "  </thead>\n",
              "  <tbody>\n",
              "    <tr>\n",
              "      <th>0</th>\n",
              "      <td>0</td>\n",
              "      <td>OBJECTIVE</td>\n",
              "      <td>to investigate the efficacy of @ weeks of dail...</td>\n",
              "      <td>11</td>\n",
              "    </tr>\n",
              "    <tr>\n",
              "      <th>1</th>\n",
              "      <td>1</td>\n",
              "      <td>METHODS</td>\n",
              "      <td>a total of @ patients with primary knee oa wer...</td>\n",
              "      <td>11</td>\n",
              "    </tr>\n",
              "    <tr>\n",
              "      <th>2</th>\n",
              "      <td>2</td>\n",
              "      <td>METHODS</td>\n",
              "      <td>outcome measures included pain reduction and i...</td>\n",
              "      <td>11</td>\n",
              "    </tr>\n",
              "    <tr>\n",
              "      <th>3</th>\n",
              "      <td>3</td>\n",
              "      <td>METHODS</td>\n",
              "      <td>pain was assessed using the visual analog pain...</td>\n",
              "      <td>11</td>\n",
              "    </tr>\n",
              "    <tr>\n",
              "      <th>4</th>\n",
              "      <td>4</td>\n",
              "      <td>METHODS</td>\n",
              "      <td>secondary outcome measures included the wester...</td>\n",
              "      <td>11</td>\n",
              "    </tr>\n",
              "  </tbody>\n",
              "</table>\n",
              "</div>\n",
              "      <button class=\"colab-df-convert\" onclick=\"convertToInteractive('df-9056a422-3825-4792-b6d3-cca44b1fb62c')\"\n",
              "              title=\"Convert this dataframe to an interactive table.\"\n",
              "              style=\"display:none;\">\n",
              "\n",
              "  <svg xmlns=\"http://www.w3.org/2000/svg\" height=\"24px\"viewBox=\"0 0 24 24\"\n",
              "       width=\"24px\">\n",
              "    <path d=\"M0 0h24v24H0V0z\" fill=\"none\"/>\n",
              "    <path d=\"M18.56 5.44l.94 2.06.94-2.06 2.06-.94-2.06-.94-.94-2.06-.94 2.06-2.06.94zm-11 1L8.5 8.5l.94-2.06 2.06-.94-2.06-.94L8.5 2.5l-.94 2.06-2.06.94zm10 10l.94 2.06.94-2.06 2.06-.94-2.06-.94-.94-2.06-.94 2.06-2.06.94z\"/><path d=\"M17.41 7.96l-1.37-1.37c-.4-.4-.92-.59-1.43-.59-.52 0-1.04.2-1.43.59L10.3 9.45l-7.72 7.72c-.78.78-.78 2.05 0 2.83L4 21.41c.39.39.9.59 1.41.59.51 0 1.02-.2 1.41-.59l7.78-7.78 2.81-2.81c.8-.78.8-2.07 0-2.86zM5.41 20L4 18.59l7.72-7.72 1.47 1.35L5.41 20z\"/>\n",
              "  </svg>\n",
              "      </button>\n",
              "\n",
              "\n",
              "\n",
              "    <div id=\"df-29cadfe3-376a-4b0f-b409-fcaa480590fa\">\n",
              "      <button class=\"colab-df-quickchart\" onclick=\"quickchart('df-29cadfe3-376a-4b0f-b409-fcaa480590fa')\"\n",
              "              title=\"Suggest charts.\"\n",
              "              style=\"display:none;\">\n",
              "\n",
              "<svg xmlns=\"http://www.w3.org/2000/svg\" height=\"24px\"viewBox=\"0 0 24 24\"\n",
              "     width=\"24px\">\n",
              "    <g>\n",
              "        <path d=\"M19 3H5c-1.1 0-2 .9-2 2v14c0 1.1.9 2 2 2h14c1.1 0 2-.9 2-2V5c0-1.1-.9-2-2-2zM9 17H7v-7h2v7zm4 0h-2V7h2v10zm4 0h-2v-4h2v4z\"/>\n",
              "    </g>\n",
              "</svg>\n",
              "      </button>\n",
              "    </div>\n",
              "\n",
              "<style>\n",
              "  .colab-df-quickchart {\n",
              "    background-color: #E8F0FE;\n",
              "    border: none;\n",
              "    border-radius: 50%;\n",
              "    cursor: pointer;\n",
              "    display: none;\n",
              "    fill: #1967D2;\n",
              "    height: 32px;\n",
              "    padding: 0 0 0 0;\n",
              "    width: 32px;\n",
              "  }\n",
              "\n",
              "  .colab-df-quickchart:hover {\n",
              "    background-color: #E2EBFA;\n",
              "    box-shadow: 0px 1px 2px rgba(60, 64, 67, 0.3), 0px 1px 3px 1px rgba(60, 64, 67, 0.15);\n",
              "    fill: #174EA6;\n",
              "  }\n",
              "\n",
              "  [theme=dark] .colab-df-quickchart {\n",
              "    background-color: #3B4455;\n",
              "    fill: #D2E3FC;\n",
              "  }\n",
              "\n",
              "  [theme=dark] .colab-df-quickchart:hover {\n",
              "    background-color: #434B5C;\n",
              "    box-shadow: 0px 1px 3px 1px rgba(0, 0, 0, 0.15);\n",
              "    filter: drop-shadow(0px 1px 2px rgba(0, 0, 0, 0.3));\n",
              "    fill: #FFFFFF;\n",
              "  }\n",
              "</style>\n",
              "\n",
              "    <script>\n",
              "      async function quickchart(key) {\n",
              "        const containerElement = document.querySelector('#' + key);\n",
              "        const charts = await google.colab.kernel.invokeFunction(\n",
              "            'suggestCharts', [key], {});\n",
              "      }\n",
              "    </script>\n",
              "\n",
              "      <script>\n",
              "\n",
              "function displayQuickchartButton(domScope) {\n",
              "  let quickchartButtonEl =\n",
              "    domScope.querySelector('#df-29cadfe3-376a-4b0f-b409-fcaa480590fa button.colab-df-quickchart');\n",
              "  quickchartButtonEl.style.display =\n",
              "    google.colab.kernel.accessAllowed ? 'block' : 'none';\n",
              "}\n",
              "\n",
              "        displayQuickchartButton(document);\n",
              "      </script>\n",
              "      <style>\n",
              "    .colab-df-container {\n",
              "      display:flex;\n",
              "      flex-wrap:wrap;\n",
              "      gap: 12px;\n",
              "    }\n",
              "\n",
              "    .colab-df-convert {\n",
              "      background-color: #E8F0FE;\n",
              "      border: none;\n",
              "      border-radius: 50%;\n",
              "      cursor: pointer;\n",
              "      display: none;\n",
              "      fill: #1967D2;\n",
              "      height: 32px;\n",
              "      padding: 0 0 0 0;\n",
              "      width: 32px;\n",
              "    }\n",
              "\n",
              "    .colab-df-convert:hover {\n",
              "      background-color: #E2EBFA;\n",
              "      box-shadow: 0px 1px 2px rgba(60, 64, 67, 0.3), 0px 1px 3px 1px rgba(60, 64, 67, 0.15);\n",
              "      fill: #174EA6;\n",
              "    }\n",
              "\n",
              "    [theme=dark] .colab-df-convert {\n",
              "      background-color: #3B4455;\n",
              "      fill: #D2E3FC;\n",
              "    }\n",
              "\n",
              "    [theme=dark] .colab-df-convert:hover {\n",
              "      background-color: #434B5C;\n",
              "      box-shadow: 0px 1px 3px 1px rgba(0, 0, 0, 0.15);\n",
              "      filter: drop-shadow(0px 1px 2px rgba(0, 0, 0, 0.3));\n",
              "      fill: #FFFFFF;\n",
              "    }\n",
              "  </style>\n",
              "\n",
              "      <script>\n",
              "        const buttonEl =\n",
              "          document.querySelector('#df-9056a422-3825-4792-b6d3-cca44b1fb62c button.colab-df-convert');\n",
              "        buttonEl.style.display =\n",
              "          google.colab.kernel.accessAllowed ? 'block' : 'none';\n",
              "\n",
              "        async function convertToInteractive(key) {\n",
              "          const element = document.querySelector('#df-9056a422-3825-4792-b6d3-cca44b1fb62c');\n",
              "          const dataTable =\n",
              "            await google.colab.kernel.invokeFunction('convertToInteractive',\n",
              "                                                     [key], {});\n",
              "          if (!dataTable) return;\n",
              "\n",
              "          const docLinkHtml = 'Like what you see? Visit the ' +\n",
              "            '<a target=\"_blank\" href=https://colab.research.google.com/notebooks/data_table.ipynb>data table notebook</a>'\n",
              "            + ' to learn more about interactive tables.';\n",
              "          element.innerHTML = '';\n",
              "          dataTable['output_type'] = 'display_data';\n",
              "          await google.colab.output.renderOutput(dataTable, element);\n",
              "          const docLink = document.createElement('div');\n",
              "          docLink.innerHTML = docLinkHtml;\n",
              "          element.appendChild(docLink);\n",
              "        }\n",
              "      </script>\n",
              "    </div>\n",
              "  </div>\n"
            ]
          },
          "metadata": {},
          "execution_count": 101
        }
      ]
    },
    {
      "cell_type": "code",
      "source": [
        "# How many different line_numbers are there?\n",
        "\n",
        "train_df[\"line_number\"].value_counts()"
      ],
      "metadata": {
        "colab": {
          "base_uri": "https://localhost:8080/"
        },
        "id": "kY6kSOfmBfqO",
        "outputId": "dc6da3d0-0bdf-4766-bcbc-760cc15b5d8d"
      },
      "execution_count": null,
      "outputs": [
        {
          "output_type": "execute_result",
          "data": {
            "text/plain": [
              "0     15000\n",
              "1     15000\n",
              "2     15000\n",
              "3     15000\n",
              "4     14992\n",
              "5     14949\n",
              "6     14758\n",
              "7     14279\n",
              "8     13346\n",
              "9     11981\n",
              "10    10041\n",
              "11     7892\n",
              "12     5853\n",
              "13     4152\n",
              "14     2835\n",
              "15     1861\n",
              "16     1188\n",
              "17      751\n",
              "18      462\n",
              "19      286\n",
              "20      162\n",
              "21      101\n",
              "22       66\n",
              "23       33\n",
              "24       22\n",
              "25       14\n",
              "26        7\n",
              "27        4\n",
              "28        3\n",
              "29        1\n",
              "30        1\n",
              "Name: line_number, dtype: int64"
            ]
          },
          "metadata": {},
          "execution_count": 102
        }
      ]
    },
    {
      "cell_type": "code",
      "source": [
        "# checck the distribution of line_number colums\n",
        "train_df.line_number.plot.hist()"
      ],
      "metadata": {
        "colab": {
          "base_uri": "https://localhost:8080/",
          "height": 447
        },
        "id": "wK5QY9w1DFQ7",
        "outputId": "153a12fc-11f2-4984-8160-3e07579f437a"
      },
      "execution_count": null,
      "outputs": [
        {
          "output_type": "execute_result",
          "data": {
            "text/plain": [
              "<Axes: ylabel='Frequency'>"
            ]
          },
          "metadata": {},
          "execution_count": 103
        },
        {
          "output_type": "display_data",
          "data": {
            "text/plain": [
              "<Figure size 640x480 with 1 Axes>"
            ],
            "image/png": "[encoded data removed]"
          },
          "metadata": {}
        }
      ]
    },
    {
      "cell_type": "code",
      "source": [
        "# Use tensorflow to create one-hot encode line_number\n",
        "train_line_numbers_one_hot = tf.one_hot(train_df[\"line_number\"].to_numpy(),depth =16)\n",
        "val_line_numbers_one_hot = tf.one_hot(val_df[\"line_number\"].to_numpy(),depth =16)\n",
        "test_line_numbers_one_hot = tf.one_hot(test_df[\"line_number\"].to_numpy(),depth =16)"
      ],
      "metadata": {
        "id": "kqCES3FQDcWE"
      },
      "execution_count": null,
      "outputs": []
    },
    {
      "cell_type": "code",
      "source": [
        "train_line_numbers_one_hot[:10] , train_line_numbers_one_hot.shape"
      ],
      "metadata": {
        "colab": {
          "base_uri": "https://localhost:8080/"
        },
        "id": "4FC06cmADt9x",
        "outputId": "9252872b-796a-4b8d-c0a1-222de887392a"
      },
      "execution_count": null,
      "outputs": [
        {
          "output_type": "execute_result",
          "data": {
            "text/plain": [
              "(<tf.Tensor: shape=(10, 16), dtype=float32, numpy=\n",
              " array([[1., 0., 0., 0., 0., 0., 0., 0., 0., 0., 0., 0., 0., 0., 0., 0.],\n",
              "        [0., 1., 0., 0., 0., 0., 0., 0., 0., 0., 0., 0., 0., 0., 0., 0.],\n",
              "        [0., 0., 1., 0., 0., 0., 0., 0., 0., 0., 0., 0., 0., 0., 0., 0.],\n",
              "        [0., 0., 0., 1., 0., 0., 0., 0., 0., 0., 0., 0., 0., 0., 0., 0.],\n",
              "        [0., 0., 0., 0., 1., 0., 0., 0., 0., 0., 0., 0., 0., 0., 0., 0.],\n",
              "        [0., 0., 0., 0., 0., 1., 0., 0., 0., 0., 0., 0., 0., 0., 0., 0.],\n",
              "        [0., 0., 0., 0., 0., 0., 1., 0., 0., 0., 0., 0., 0., 0., 0., 0.],\n",
              "        [0., 0., 0., 0., 0., 0., 0., 1., 0., 0., 0., 0., 0., 0., 0., 0.],\n",
              "        [0., 0., 0., 0., 0., 0., 0., 0., 1., 0., 0., 0., 0., 0., 0., 0.],\n",
              "        [0., 0., 0., 0., 0., 0., 0., 0., 0., 1., 0., 0., 0., 0., 0., 0.]],\n",
              "       dtype=float32)>,\n",
              " TensorShape([180040, 16]))"
            ]
          },
          "metadata": {},
          "execution_count": 105
        }
      ]
    },
    {
      "cell_type": "code",
      "source": [
        "# how is the distribution of total lines\n",
        "train_df[\"total_lines\"].value_counts()"
      ],
      "metadata": {
        "colab": {
          "base_uri": "https://localhost:8080/"
        },
        "id": "E7JbwqpcD5YQ",
        "outputId": "6dbfcea3-4a95-48e9-9ad7-ec942d2d8817"
      },
      "execution_count": null,
      "outputs": [
        {
          "output_type": "execute_result",
          "data": {
            "text/plain": [
              "11    24468\n",
              "10    23639\n",
              "12    22113\n",
              "9     19400\n",
              "13    18438\n",
              "14    14610\n",
              "8     12285\n",
              "15    10768\n",
              "7      7464\n",
              "16     7429\n",
              "17     5202\n",
              "6      3353\n",
              "18     3344\n",
              "19     2480\n",
              "20     1281\n",
              "5      1146\n",
              "21      770\n",
              "22      759\n",
              "23      264\n",
              "4       215\n",
              "24      200\n",
              "25      182\n",
              "26       81\n",
              "28       58\n",
              "3        32\n",
              "30       31\n",
              "27       28\n",
              "Name: total_lines, dtype: int64"
            ]
          },
          "metadata": {},
          "execution_count": 106
        }
      ]
    },
    {
      "cell_type": "code",
      "source": [
        "train_df[\"total_lines\"].plot.hist()"
      ],
      "metadata": {
        "colab": {
          "base_uri": "https://localhost:8080/",
          "height": 448
        },
        "id": "8lZ53PsHEjs2",
        "outputId": "8139eb4d-3edc-44e1-f966-be4ec471ced4"
      },
      "execution_count": null,
      "outputs": [
        {
          "output_type": "execute_result",
          "data": {
            "text/plain": [
              "<Axes: ylabel='Frequency'>"
            ]
          },
          "metadata": {},
          "execution_count": 107
        },
        {
          "output_type": "display_data",
          "data": {
            "text/plain": [
              "<Figure size 640x480 with 1 Axes>"
            ],
            "image/png": "[encoded data removed]"
          },
          "metadata": {}
        }
      ]
    },
    {
      "cell_type": "code",
      "source": [
        "# Check the coverage of a \"total_line\"\n",
        "np.percentile(train_df.total_lines , 98)"
      ],
      "metadata": {
        "colab": {
          "base_uri": "https://localhost:8080/"
        },
        "id": "5Z8IaY3CEwhH",
        "outputId": "8aac79ef-ceb8-469d-f9f5-370111e43005"
      },
      "execution_count": null,
      "outputs": [
        {
          "output_type": "execute_result",
          "data": {
            "text/plain": [
              "20.0"
            ]
          },
          "metadata": {},
          "execution_count": 108
        }
      ]
    },
    {
      "cell_type": "code",
      "source": [
        "train_total_lines_one_hot = tf.one_hot(train_df[\"total_lines\"].to_numpy() , depth =20)\n",
        "val_total_lines_one_hot = tf.one_hot(val_df[\"total_lines\"].to_numpy() , depth =20)\n",
        "test_total_lines_one_hot = tf.one_hot(test_df[\"total_lines\"].to_numpy() , depth =20)"
      ],
      "metadata": {
        "id": "LpBfLJjVGKPE"
      },
      "execution_count": null,
      "outputs": []
    },
    {
      "cell_type": "code",
      "source": [
        "train_total_lines_one_hot.shape"
      ],
      "metadata": {
        "colab": {
          "base_uri": "https://localhost:8080/"
        },
        "id": "-jJPMSPgGY3j",
        "outputId": "c76f4d71-e826-4e3b-f5e6-3a0752305423"
      },
      "execution_count": null,
      "outputs": [
        {
          "output_type": "execute_result",
          "data": {
            "text/plain": [
              "TensorShape([180040, 20])"
            ]
          },
          "metadata": {},
          "execution_count": 110
        }
      ]
    },
    {
      "cell_type": "markdown",
      "source": [
        "### Building a tribrid embedding model\n",
        "\n",
        "1. create a token-level model\n",
        "2. create a char - level model\n",
        "3. create a model for \"line_number\" feature\n",
        "4. create a model for \"total_lines\" feature\n",
        "5. Combine the outputs of 1 & 2 using tf.keras.layers.concatenate\n",
        "6. combine the outputs of 3,4,5 using tf.keras.layers.concatenate\n"
      ],
      "metadata": {
        "id": "QHuEcqOJGazF"
      }
    },
    {
      "cell_type": "code",
      "source": [
        "# Number 1 Token inputs\n",
        "\n",
        "token_inputs = layers.Input(shape =[] ,dtype = \"string\")\n",
        "token_embeddings = embedding_layer(token_inputs)\n",
        "token_outputs = layers.Dense(128 , activation =\"relu\")(token_embeddings)\n",
        "token_model= tf.keras.Model(inputs = token_inputs , outputs = token_outputs)\n",
        "\n",
        "# Number 2 char inputs\n",
        "\n",
        "char_inputs = layers.Input(shape = (1,) , dtype =\"string\")\n",
        "char_vector = char_vectorizer(char_inputs)\n",
        "char_embeddings = char_embed(char_vector)\n",
        "x = layers.Bidirectional(layers.LSTM(64))(char_embeddings)\n",
        "#char_outputs = layers.Dense(128 , activation =\"relu\")(x)\n",
        "char_model = tf.keras.Model(char_inputs , x)\n",
        "\n",
        "\n",
        "# Number 3 Model for line_number\n",
        "\n",
        "line_inputs = layers.Input(shape = (16,) , dtype = tf.float32 , name =\"line_number_input\")\n",
        "x = layers.Dense(32 , activation = \"relu\")(line_inputs)\n",
        "\n",
        "line_model = tf.keras.Model(line_inputs , x)\n",
        "\n",
        "# Number 4 Model for line number\n",
        "\n",
        "total_line_inputs = layers.Input(shape = (20,) , dtype = tf.float32 , name = \"total_line_input\")\n",
        "y = layers.Dense(32 , activation = \"relu\")(total_line_inputs)\n",
        "total_line_model = tf.keras.Model(total_line_inputs , y)\n",
        "\n",
        "\n",
        "# Number 5 : combining 1,2\n",
        "token_char_concat = layers.Concatenate(name =\"char_token_hybrid_embedding\")([token_model.output , char_model.output])\n",
        "\n",
        "z = layers.Dense(256 , activation =\"relu\")(token_char_concat)\n",
        "z = layers.Dropout(0.5)(z)\n",
        "# Number 6 combinig 3,4,5\n",
        "\n",
        "line_total_tc_concat = layers.Concatenate(name = \"Tribrid_embedding\")([line_model.output ,\n",
        "                                           total_line_model.output ,\n",
        "                                            z])\n",
        "# Number 7 Output layer\n",
        "outputs = layers.Dense(num_classes , activation =\"softmax\")(line_total_tc_concat)\n",
        "\n",
        "# Number 8 : Model\n",
        "model_5 = tf.keras.Model(inputs =[token_model.input ,char_model.input , line_model.input , total_line_model.input] ,\n",
        "                         outputs = outputs)\n",
        "\n"
      ],
      "metadata": {
        "id": "WMpV7hJYHiMy"
      },
      "execution_count": null,
      "outputs": []
    },
    {
      "cell_type": "code",
      "source": [
        "model_5.summary()"
      ],
      "metadata": {
        "id": "cnoAmDIYbD8A"
      },
      "execution_count": null,
      "outputs": []
    },
    {
      "cell_type": "code",
      "source": [
        "from keras.utils import plot_model\n",
        "plot_model(model_5, show_shapes =True)"
      ],
      "metadata": {
        "colab": {
          "base_uri": "https://localhost:8080/",
          "height": 513
        },
        "id": "vxTlKmifbFch",
        "outputId": "b50e2514-a16e-4f7a-923e-fcf44dd88b8d"
      },
      "execution_count": null,
      "outputs": [
        {
          "output_type": "execute_result",
          "data": {
            "image/png": "[encoded data removed]",
            "text/plain": [
              "<IPython.core.display.Image object>"
            ]
          },
          "metadata": {},
          "execution_count": 128
        }
      ]
    },
    {
      "cell_type": "code",
      "source": [
        "model_5.compile(loss = tf.keras.losses.CategoricalCrossentropy(label_smoothing =0.2), # helps to prevent overfitting\n",
        "                optimizer = tf.keras.optimizers.Adam(),\n",
        "                metrics =[\"accuracy\"])"
      ],
      "metadata": {
        "id": "yQDYCCE7bQHG"
      },
      "execution_count": null,
      "outputs": []
    },
    {
      "cell_type": "code",
      "source": [
        "# Creating a training and validation datasets(with all four kinds of input data)\n",
        "\n",
        "train_dataset =  tf.data.Dataset.from_tensor_slices(((train_sentences , train_chars , train_line_numbers_one_hot ,train_total_lines_one_hot) , train_labels_one_hot)).batch(32).prefetch(tf.data.AUTOTUNE)\n",
        "\n",
        "valid_dataset =  tf.data.Dataset.from_tensor_slices(((val_sentences, val_chars ,val_line_numbers_one_hot ,val_total_lines_one_hot) , val_labels_one_hot)).batch(32).prefetch(tf.data.AUTOTUNE)\n",
        "\n",
        "test_dataset =  tf.data.Dataset.from_tensor_slices(((test_sentences, test_chars,test_line_numbers_one_hot ,test_total_lines_one_hot) , test_labels_one_hot)).batch(32).prefetch(tf.data.AUTOTUNE)"
      ],
      "metadata": {
        "id": "aKV69h2mdBNQ"
      },
      "execution_count": null,
      "outputs": []
    },
    {
      "cell_type": "code",
      "source": [
        "train_dataset"
      ],
      "metadata": {
        "colab": {
          "base_uri": "https://localhost:8080/"
        },
        "id": "FzVp2FPhfOpb",
        "outputId": "af38b42e-bc30-42a4-b093-f2cba73b8971"
      },
      "execution_count": null,
      "outputs": [
        {
          "output_type": "execute_result",
          "data": {
            "text/plain": [
              "<_PrefetchDataset element_spec=((TensorSpec(shape=(None,), dtype=tf.string, name=None), TensorSpec(shape=(None,), dtype=tf.string, name=None), TensorSpec(shape=(None, 16), dtype=tf.float32, name=None), TensorSpec(shape=(None, 20), dtype=tf.float32, name=None)), TensorSpec(shape=(None, 5), dtype=tf.float64, name=None))>"
            ]
          },
          "metadata": {},
          "execution_count": 136
        }
      ]
    },
    {
      "cell_type": "code",
      "source": [
        "history_5 = model_5.fit(train_dataset ,\n",
        "                        epochs = 5 ,\n",
        "                        steps_per_epoch =int(0.1*len(train_dataset)),\n",
        "                        validation_data = valid_dataset ,\n",
        "                        validation_steps = int(0.1*len(valid_dataset)))"
      ],
      "metadata": {
        "colab": {
          "base_uri": "https://localhost:8080/"
        },
        "id": "CvJP4RG3cMhc",
        "outputId": "755128a1-93e5-4fa1-ed9b-8b3010a3b3e8"
      },
      "execution_count": null,
      "outputs": [
        {
          "output_type": "stream",
          "name": "stdout",
          "text": [
            "Epoch 1/5\n",
            "562/562 [==============================] - 42s 55ms/step - loss: 0.7438 - accuracy: 0.7249 - val_loss: 0.5378 - val_accuracy: 0.8002\n",
            "Epoch 2/5\n",
            "562/562 [==============================] - 30s 53ms/step - loss: 0.4961 - accuracy: 0.8104 - val_loss: 0.4675 - val_accuracy: 0.8168\n",
            "Epoch 3/5\n",
            "562/562 [==============================] - 27s 48ms/step - loss: 0.4633 - accuracy: 0.8186 - val_loss: 0.4441 - val_accuracy: 0.8231\n",
            "Epoch 4/5\n",
            "562/562 [==============================] - 44s 78ms/step - loss: 0.4466 - accuracy: 0.8320 - val_loss: 0.4209 - val_accuracy: 0.8374\n",
            "Epoch 5/5\n",
            "562/562 [==============================] - 34s 60ms/step - loss: 0.4281 - accuracy: 0.8374 - val_loss: 0.4114 - val_accuracy: 0.8394\n"
          ]
        }
      ]
    },
    {
      "cell_type": "code",
      "source": [
        "model_5.evaluate(valid_dataset)"
      ],
      "metadata": {
        "colab": {
          "base_uri": "https://localhost:8080/"
        },
        "id": "TbOUMYyCekRG",
        "outputId": "92ef6e85-b4a3-4bf5-a105-373692dc1c10"
      },
      "execution_count": null,
      "outputs": [
        {
          "output_type": "stream",
          "name": "stdout",
          "text": [
            "945/945 [==============================] - 32s 34ms/step - loss: 0.4117 - accuracy: 0.8422\n"
          ]
        },
        {
          "output_type": "execute_result",
          "data": {
            "text/plain": [
              "[0.4117372930049896, 0.8422481417655945]"
            ]
          },
          "metadata": {},
          "execution_count": 132
        }
      ]
    },
    {
      "cell_type": "code",
      "source": [
        "model_5_pred_probs = model_5.predict(valid_dataset)\n",
        "model_5_pred = tf.argmax(model_5_pred_probs , axis =1)\n",
        "\n"
      ],
      "metadata": {
        "colab": {
          "base_uri": "https://localhost:8080/"
        },
        "id": "TGI2RloseoIk",
        "outputId": "c20a39c4-6996-40d6-c60b-50e6b1f4ef5b"
      },
      "execution_count": null,
      "outputs": [
        {
          "output_type": "stream",
          "name": "stdout",
          "text": [
            "945/945 [==============================] - 35s 34ms/step\n"
          ]
        }
      ]
    },
    {
      "cell_type": "code",
      "source": [
        "model_5_results = calculate_results(y_true = val_labels_encoded ,\n",
        "                                    y_pred = model_5_pred)"
      ],
      "metadata": {
        "id": "Irsro2p5e8CA"
      },
      "execution_count": null,
      "outputs": []
    },
    {
      "cell_type": "code",
      "source": [
        "model_5_results"
      ],
      "metadata": {
        "colab": {
          "base_uri": "https://localhost:8080/"
        },
        "id": "UEXgPTd0fHzR",
        "outputId": "9586503c-2607-482b-92af-92a0a28517b2"
      },
      "execution_count": null,
      "outputs": [
        {
          "output_type": "execute_result",
          "data": {
            "text/plain": [
              "{'accuracy': 84.22481133324507,\n",
              " 'precision': 0.8455080083417329,\n",
              " 'recall': 0.8422481133324506,\n",
              " 'f1': 0.8385616210270436}"
            ]
          },
          "metadata": {},
          "execution_count": 135
        }
      ]
    },
    {
      "cell_type": "markdown",
      "source": [
        "## Comparing model results\n"
      ],
      "metadata": {
        "id": "IpLeu2sxfJT2"
      }
    },
    {
      "cell_type": "code",
      "source": [
        "# combine model results into dataframe\n",
        "\n",
        "all_model_results = pd.DataFrame({\"model_0_baseline\": baseline_results,\n",
        "                                  \"model_1_custom_token_embedding\":model_1_results,\n",
        "                                  \"model_2_pretrained_embedding\":model_2_results,\n",
        "                                  \"model_3_custom_char_embedding\":model_3_results,\n",
        "                                  \"model_4_hybrid_token_char_embedding\":model_4_results,\n",
        "                                  \"model_5_tribid_char_token_positonal_embedding\":model_5_results\n",
        "                                  })\n",
        "all_model_results =all_model_results.transpose()\n",
        "all_model_results"
      ],
      "metadata": {
        "colab": {
          "base_uri": "https://localhost:8080/",
          "height": 301
        },
        "id": "ZtuLFK4QhnoS",
        "outputId": "e703512f-04e0-484e-e233-d20ef48f560a"
      },
      "execution_count": null,
      "outputs": [
        {
          "output_type": "execute_result",
          "data": {
            "text/plain": [
              "                                                accuracy  precision    recall  \\\n",
              "model_0_baseline                               72.183238   0.718647  0.721832   \n",
              "model_1_custom_token_embedding                 78.736926   0.784096  0.787369   \n",
              "model_2_pretrained_embedding                   71.445121   0.714711  0.714451   \n",
              "model_3_custom_char_embedding                  69.409506   0.686071  0.694095   \n",
              "model_4_hybrid_token_char_embedding            73.556865   0.735857  0.735569   \n",
              "model_5_tribid_char_token_positonal_embedding  84.224811   0.845508  0.842248   \n",
              "\n",
              "                                                     f1  \n",
              "model_0_baseline                               0.698925  \n",
              "model_1_custom_token_embedding                 0.784739  \n",
              "model_2_pretrained_embedding                   0.711321  \n",
              "model_3_custom_char_embedding                  0.684145  \n",
              "model_4_hybrid_token_char_embedding            0.732221  \n",
              "model_5_tribid_char_token_positonal_embedding  0.838562  "
            ],
            "text/html": [
              "\n",
              "\n",
              "  <div id=\"df-8bc30dcf-07a8-4549-91ce-0ec88b6fb996\">\n",
              "    <div class=\"colab-df-container\">\n",
              "      <div>\n",
              "<style scoped>\n",
              "    .dataframe tbody tr th:only-of-type {\n",
              "        vertical-align: middle;\n",
              "    }\n",
              "\n",
              "    .dataframe tbody tr th {\n",
              "        vertical-align: top;\n",
              "    }\n",
              "\n",
              "    .dataframe thead th {\n",
              "        text-align: right;\n",
              "    }\n",
              "</style>\n",
              "<table border=\"1\" class=\"dataframe\">\n",
              "  <thead>\n",
              "    <tr style=\"text-align: right;\">\n",
              "      <th></th>\n",
              "      <th>accuracy</th>\n",
              "      <th>precision</th>\n",
              "      <th>recall</th>\n",
              "      <th>f1</th>\n",
              "    </tr>\n",
              "  </thead>\n",
              "  <tbody>\n",
              "    <tr>\n",
              "      <th>model_0_baseline</th>\n",
              "      <td>72.183238</td>\n",
              "      <td>0.718647</td>\n",
              "      <td>0.721832</td>\n",
              "      <td>0.698925</td>\n",
              "    </tr>\n",
              "    <tr>\n",
              "      <th>model_1_custom_token_embedding</th>\n",
              "      <td>78.736926</td>\n",
              "      <td>0.784096</td>\n",
              "      <td>0.787369</td>\n",
              "      <td>0.784739</td>\n",
              "    </tr>\n",
              "    <tr>\n",
              "      <th>model_2_pretrained_embedding</th>\n",
              "      <td>71.445121</td>\n",
              "      <td>0.714711</td>\n",
              "      <td>0.714451</td>\n",
              "      <td>0.711321</td>\n",
              "    </tr>\n",
              "    <tr>\n",
              "      <th>model_3_custom_char_embedding</th>\n",
              "      <td>69.409506</td>\n",
              "      <td>0.686071</td>\n",
              "      <td>0.694095</td>\n",
              "      <td>0.684145</td>\n",
              "    </tr>\n",
              "    <tr>\n",
              "      <th>model_4_hybrid_token_char_embedding</th>\n",
              "      <td>73.556865</td>\n",
              "      <td>0.735857</td>\n",
              "      <td>0.735569</td>\n",
              "      <td>0.732221</td>\n",
              "    </tr>\n",
              "    <tr>\n",
              "      <th>model_5_tribid_char_token_positonal_embedding</th>\n",
              "      <td>84.224811</td>\n",
              "      <td>0.845508</td>\n",
              "      <td>0.842248</td>\n",
              "      <td>0.838562</td>\n",
              "    </tr>\n",
              "  </tbody>\n",
              "</table>\n",
              "</div>\n",
              "      <button class=\"colab-df-convert\" onclick=\"convertToInteractive('df-8bc30dcf-07a8-4549-91ce-0ec88b6fb996')\"\n",
              "              title=\"Convert this dataframe to an interactive table.\"\n",
              "              style=\"display:none;\">\n",
              "\n",
              "  <svg xmlns=\"http://www.w3.org/2000/svg\" height=\"24px\"viewBox=\"0 0 24 24\"\n",
              "       width=\"24px\">\n",
              "    <path d=\"M0 0h24v24H0V0z\" fill=\"none\"/>\n",
              "    <path d=\"M18.56 5.44l.94 2.06.94-2.06 2.06-.94-2.06-.94-.94-2.06-.94 2.06-2.06.94zm-11 1L8.5 8.5l.94-2.06 2.06-.94-2.06-.94L8.5 2.5l-.94 2.06-2.06.94zm10 10l.94 2.06.94-2.06 2.06-.94-2.06-.94-.94-2.06-.94 2.06-2.06.94z\"/><path d=\"M17.41 7.96l-1.37-1.37c-.4-.4-.92-.59-1.43-.59-.52 0-1.04.2-1.43.59L10.3 9.45l-7.72 7.72c-.78.78-.78 2.05 0 2.83L4 21.41c.39.39.9.59 1.41.59.51 0 1.02-.2 1.41-.59l7.78-7.78 2.81-2.81c.8-.78.8-2.07 0-2.86zM5.41 20L4 18.59l7.72-7.72 1.47 1.35L5.41 20z\"/>\n",
              "  </svg>\n",
              "      </button>\n",
              "\n",
              "\n",
              "\n",
              "    <div id=\"df-6791b4ef-8baa-4e4b-9fc3-cba3ff08f10e\">\n",
              "      <button class=\"colab-df-quickchart\" onclick=\"quickchart('df-6791b4ef-8baa-4e4b-9fc3-cba3ff08f10e')\"\n",
              "              title=\"Suggest charts.\"\n",
              "              style=\"display:none;\">\n",
              "\n",
              "<svg xmlns=\"http://www.w3.org/2000/svg\" height=\"24px\"viewBox=\"0 0 24 24\"\n",
              "     width=\"24px\">\n",
              "    <g>\n",
              "        <path d=\"M19 3H5c-1.1 0-2 .9-2 2v14c0 1.1.9 2 2 2h14c1.1 0 2-.9 2-2V5c0-1.1-.9-2-2-2zM9 17H7v-7h2v7zm4 0h-2V7h2v10zm4 0h-2v-4h2v4z\"/>\n",
              "    </g>\n",
              "</svg>\n",
              "      </button>\n",
              "    </div>\n",
              "\n",
              "<style>\n",
              "  .colab-df-quickchart {\n",
              "    background-color: #E8F0FE;\n",
              "    border: none;\n",
              "    border-radius: 50%;\n",
              "    cursor: pointer;\n",
              "    display: none;\n",
              "    fill: #1967D2;\n",
              "    height: 32px;\n",
              "    padding: 0 0 0 0;\n",
              "    width: 32px;\n",
              "  }\n",
              "\n",
              "  .colab-df-quickchart:hover {\n",
              "    background-color: #E2EBFA;\n",
              "    box-shadow: 0px 1px 2px rgba(60, 64, 67, 0.3), 0px 1px 3px 1px rgba(60, 64, 67, 0.15);\n",
              "    fill: #174EA6;\n",
              "  }\n",
              "\n",
              "  [theme=dark] .colab-df-quickchart {\n",
              "    background-color: #3B4455;\n",
              "    fill: #D2E3FC;\n",
              "  }\n",
              "\n",
              "  [theme=dark] .colab-df-quickchart:hover {\n",
              "    background-color: #434B5C;\n",
              "    box-shadow: 0px 1px 3px 1px rgba(0, 0, 0, 0.15);\n",
              "    filter: drop-shadow(0px 1px 2px rgba(0, 0, 0, 0.3));\n",
              "    fill: #FFFFFF;\n",
              "  }\n",
              "</style>\n",
              "\n",
              "    <script>\n",
              "      async function quickchart(key) {\n",
              "        const containerElement = document.querySelector('#' + key);\n",
              "        const charts = await google.colab.kernel.invokeFunction(\n",
              "            'suggestCharts', [key], {});\n",
              "      }\n",
              "    </script>\n",
              "\n",
              "      <script>\n",
              "\n",
              "function displayQuickchartButton(domScope) {\n",
              "  let quickchartButtonEl =\n",
              "    domScope.querySelector('#df-6791b4ef-8baa-4e4b-9fc3-cba3ff08f10e button.colab-df-quickchart');\n",
              "  quickchartButtonEl.style.display =\n",
              "    google.colab.kernel.accessAllowed ? 'block' : 'none';\n",
              "}\n",
              "\n",
              "        displayQuickchartButton(document);\n",
              "      </script>\n",
              "      <style>\n",
              "    .colab-df-container {\n",
              "      display:flex;\n",
              "      flex-wrap:wrap;\n",
              "      gap: 12px;\n",
              "    }\n",
              "\n",
              "    .colab-df-convert {\n",
              "      background-color: #E8F0FE;\n",
              "      border: none;\n",
              "      border-radius: 50%;\n",
              "      cursor: pointer;\n",
              "      display: none;\n",
              "      fill: #1967D2;\n",
              "      height: 32px;\n",
              "      padding: 0 0 0 0;\n",
              "      width: 32px;\n",
              "    }\n",
              "\n",
              "    .colab-df-convert:hover {\n",
              "      background-color: #E2EBFA;\n",
              "      box-shadow: 0px 1px 2px rgba(60, 64, 67, 0.3), 0px 1px 3px 1px rgba(60, 64, 67, 0.15);\n",
              "      fill: #174EA6;\n",
              "    }\n",
              "\n",
              "    [theme=dark] .colab-df-convert {\n",
              "      background-color: #3B4455;\n",
              "      fill: #D2E3FC;\n",
              "    }\n",
              "\n",
              "    [theme=dark] .colab-df-convert:hover {\n",
              "      background-color: #434B5C;\n",
              "      box-shadow: 0px 1px 3px 1px rgba(0, 0, 0, 0.15);\n",
              "      filter: drop-shadow(0px 1px 2px rgba(0, 0, 0, 0.3));\n",
              "      fill: #FFFFFF;\n",
              "    }\n",
              "  </style>\n",
              "\n",
              "      <script>\n",
              "        const buttonEl =\n",
              "          document.querySelector('#df-8bc30dcf-07a8-4549-91ce-0ec88b6fb996 button.colab-df-convert');\n",
              "        buttonEl.style.display =\n",
              "          google.colab.kernel.accessAllowed ? 'block' : 'none';\n",
              "\n",
              "        async function convertToInteractive(key) {\n",
              "          const element = document.querySelector('#df-8bc30dcf-07a8-4549-91ce-0ec88b6fb996');\n",
              "          const dataTable =\n",
              "            await google.colab.kernel.invokeFunction('convertToInteractive',\n",
              "                                                     [key], {});\n",
              "          if (!dataTable) return;\n",
              "\n",
              "          const docLinkHtml = 'Like what you see? Visit the ' +\n",
              "            '<a target=\"_blank\" href=https://colab.research.google.com/notebooks/data_table.ipynb>data table notebook</a>'\n",
              "            + ' to learn more about interactive tables.';\n",
              "          element.innerHTML = '';\n",
              "          dataTable['output_type'] = 'display_data';\n",
              "          await google.colab.output.renderOutput(dataTable, element);\n",
              "          const docLink = document.createElement('div');\n",
              "          docLink.innerHTML = docLinkHtml;\n",
              "          element.appendChild(docLink);\n",
              "        }\n",
              "      </script>\n",
              "    </div>\n",
              "  </div>\n"
            ]
          },
          "metadata": {},
          "execution_count": 140
        }
      ]
    },
    {
      "cell_type": "code",
      "source": [
        "# Reduce the accuracy to same scale\n",
        "all_model_results[\"accuracy\"] /= 100"
      ],
      "metadata": {
        "id": "CQ1P-XhMiX2g"
      },
      "execution_count": null,
      "outputs": []
    },
    {
      "cell_type": "code",
      "source": [
        "all_model_results.plot(kind=\"bar\" , figsize =(10,7)).legend(bbox_to_anchor =(1.0,1.0))"
      ],
      "metadata": {
        "colab": {
          "base_uri": "https://localhost:8080/",
          "height": 656
        },
        "id": "CbI7vZURi82j",
        "outputId": "926c60a3-b97c-4490-882a-5da8ecf641a0"
      },
      "execution_count": null,
      "outputs": [
        {
          "output_type": "execute_result",
          "data": {
            "text/plain": [
              "<matplotlib.legend.Legend at 0x7ef3f0451990>"
            ]
          },
          "metadata": {},
          "execution_count": 143
        },
        {
          "output_type": "display_data",
          "data": {
            "text/plain": [
              "<Figure size 1000x700 with 1 Axes>"
            ],
            "image/png": "[encoded data removed]"
          },
          "metadata": {}
        }
      ]
    },
    {
      "cell_type": "code",
      "source": [
        "all_model_results[\"f1\"].plot(kind =\"bar\" , figsize=(10,7))"
      ],
      "metadata": {
        "colab": {
          "base_uri": "https://localhost:8080/",
          "height": 746
        },
        "id": "PIdeq7OSi_A0",
        "outputId": "5eeec6b3-230c-453b-c4fe-c954afd30ad8"
      },
      "execution_count": null,
      "outputs": [
        {
          "output_type": "execute_result",
          "data": {
            "text/plain": [
              "<Axes: >"
            ]
          },
          "metadata": {},
          "execution_count": 144
        },
        {
          "output_type": "display_data",
          "data": {
            "text/plain": [
              "<Figure size 1000x700 with 1 Axes>"
            ],
            "image/png": "[encoded data removed]"
          },
          "metadata": {}
        }
      ]
    },
    {
      "cell_type": "markdown",
      "source": [
        "## Save and load model"
      ],
      "metadata": {
        "id": "9HqcE1GijoIQ"
      }
    },
    {
      "cell_type": "code",
      "source": [
        "# saving the model\n",
        "\n",
        "model_5.save(\"SkimLit_Model\")"
      ],
      "metadata": {
        "colab": {
          "base_uri": "https://localhost:8080/"
        },
        "id": "8Ahd1DxRj4O8",
        "outputId": "423b0a5a-0e2d-4753-d1bb-f1e48e5c7d93"
      },
      "execution_count": null,
      "outputs": [
        {
          "output_type": "stream",
          "name": "stderr",
          "text": [
            "WARNING:absl:Found untraced functions such as lstm_cell_28_layer_call_fn, lstm_cell_28_layer_call_and_return_conditional_losses, lstm_cell_29_layer_call_fn, lstm_cell_29_layer_call_and_return_conditional_losses while saving (showing 4 of 4). These functions will not be directly callable after loading.\n"
          ]
        }
      ]
    },
    {
      "cell_type": "code",
      "source": [
        "from google.colab import files\n",
        "files.download(\"SkimLit_Model\")"
      ],
      "metadata": {
        "colab": {
          "base_uri": "https://localhost:8080/",
          "height": 34
        },
        "id": "KehgoF5Mkcxp",
        "outputId": "da6dff97-7c74-445e-a26d-f75efcfe52f5"
      },
      "execution_count": null,
      "outputs": [
        {
          "output_type": "display_data",
          "data": {
            "text/plain": [
              "<IPython.core.display.Javascript object>"
            ],
            "application/javascript": [
              "\n",
              "    async function download(id, filename, size) {\n",
              "      if (!google.colab.kernel.accessAllowed) {\n",
              "        return;\n",
              "      }\n",
              "      const div = document.createElement('div');\n",
              "      const label = document.createElement('label');\n",
              "      label.textContent = `Downloading \"${filename}\": `;\n",
              "      div.appendChild(label);\n",
              "      const progress = document.createElement('progress');\n",
              "      progress.max = size;\n",
              "      div.appendChild(progress);\n",
              "      document.body.appendChild(div);\n",
              "\n",
              "      const buffers = [];\n",
              "      let downloaded = 0;\n",
              "\n",
              "      const channel = await google.colab.kernel.comms.open(id);\n",
              "      // Send a message to notify the kernel that we're ready.\n",
              "      channel.send({})\n",
              "\n",
              "      for await (const message of channel.messages) {\n",
              "        // Send a message to notify the kernel that we're ready.\n",
              "        channel.send({})\n",
              "        if (message.buffers) {\n",
              "          for (const buffer of message.buffers) {\n",
              "            buffers.push(buffer);\n",
              "            downloaded += buffer.byteLength;\n",
              "            progress.value = downloaded;\n",
              "          }\n",
              "        }\n",
              "      }\n",
              "      const blob = new Blob(buffers, {type: 'application/binary'});\n",
              "      const a = document.createElement('a');\n",
              "      a.href = window.URL.createObjectURL(blob);\n",
              "      a.download = filename;\n",
              "      div.appendChild(a);\n",
              "      a.click();\n",
              "      div.remove();\n",
              "    }\n",
              "  "
            ]
          },
          "metadata": {}
        },
        {
          "output_type": "display_data",
          "data": {
            "text/plain": [
              "<IPython.core.display.Javascript object>"
            ],
            "application/javascript": [
              "download(\"download_430f852c-166b-4683-b5e2-7aeb16d90efd\", \"SkimLit_Model\", 4096)"
            ]
          },
          "metadata": {}
        }
      ]
    },
    {
      "cell_type": "code",
      "source": [
        "# Load in Best performing model\n",
        "import tensorflow as tf\n",
        "import tensorflow_hub as hub\n",
        "from tensorflow.keras.layers.experimental.preprocessing import TextVectorization\n",
        "\n",
        "loaded_model = tf.keras.models.load_model(\"/content/drive/MyDrive/Projects/SkimLit_Model\")\n"
      ],
      "metadata": {
        "id": "O78IHmbnj3Ua"
      },
      "execution_count": null,
      "outputs": []
    },
    {
      "cell_type": "code",
      "source": [
        "# Make prediction with the Loaded model on validation set\n",
        "\n",
        "loaded_pred_probs = loaded_model.predict(valid_dataset)\n",
        "loaded_preds = tf.argmax(loaded_pred_probs, axis =1 )\n"
      ],
      "metadata": {
        "id": "Or7Ag6t0k0z_"
      },
      "execution_count": null,
      "outputs": []
    },
    {
      "cell_type": "code",
      "source": [
        "loaded_model_results = calculate_results(y_true = val_labels_encoded ,\n",
        "                  y_pred = loaded_preds)\n",
        "\n",
        "loaded_model_results"
      ],
      "metadata": {
        "colab": {
          "base_uri": "https://localhost:8080/"
        },
        "id": "dzBnOJFjlPt7",
        "outputId": "cddd451b-798b-4928-f319-a4180d376122"
      },
      "execution_count": null,
      "outputs": [
        {
          "output_type": "execute_result",
          "data": {
            "text/plain": [
              "{'accuracy': 84.22481133324507,\n",
              " 'precision': 0.8455080083417329,\n",
              " 'recall': 0.8422481133324506,\n",
              " 'f1': 0.8385616210270436}"
            ]
          },
          "metadata": {},
          "execution_count": 151
        }
      ]
    },
    {
      "cell_type": "code",
      "source": [
        "model_5_results"
      ],
      "metadata": {
        "colab": {
          "base_uri": "https://localhost:8080/"
        },
        "id": "X2hJOOYHljkU",
        "outputId": "333fc1bb-3378-42bf-ad79-7e2778616919"
      },
      "execution_count": null,
      "outputs": [
        {
          "output_type": "execute_result",
          "data": {
            "text/plain": [
              "{'accuracy': 84.22481133324507,\n",
              " 'precision': 0.8455080083417329,\n",
              " 'recall': 0.8422481133324506,\n",
              " 'f1': 0.8385616210270436}"
            ]
          },
          "metadata": {},
          "execution_count": 152
        }
      ]
    },
    {
      "cell_type": "code",
      "source": [
        "model_5_results == loaded_model_results"
      ],
      "metadata": {
        "colab": {
          "base_uri": "https://localhost:8080/"
        },
        "id": "XPwsxim2ll4s",
        "outputId": "50409d45-9b07-407b-a56a-376000bed808"
      },
      "execution_count": null,
      "outputs": [
        {
          "output_type": "execute_result",
          "data": {
            "text/plain": [
              "True"
            ]
          },
          "metadata": {},
          "execution_count": 154
        }
      ]
    },
    {
      "cell_type": "code",
      "source": [
        "loaded_model.summary()"
      ],
      "metadata": {
        "colab": {
          "base_uri": "https://localhost:8080/"
        },
        "id": "qU9ijLrxltRT",
        "outputId": "bd091f54-5cd8-4653-da7c-0c4c7c3e3c4b"
      },
      "execution_count": null,
      "outputs": [
        {
          "output_type": "stream",
          "name": "stdout",
          "text": [
            "Model: \"model_40\"\n",
            "__________________________________________________________________________________________________\n",
            " Layer (type)                   Output Shape         Param #     Connected to                     \n",
            "==================================================================================================\n",
            " input_26 (InputLayer)          [(None, 1)]          0           []                               \n",
            "                                                                                                  \n",
            " input_25 (InputLayer)          [(None,)]            0           []                               \n",
            "                                                                                                  \n",
            " char_vectorizer (TextVectoriza  (None, 290)         0           ['input_26[0][0]']               \n",
            " tion)                                                                                            \n",
            "                                                                                                  \n",
            " universal_sentence_encoder (Ke  (None, 512)         256797824   ['input_25[0][0]']               \n",
            " rasLayer)                                                                                        \n",
            "                                                                                                  \n",
            " char_embed (Embedding)         (None, 290, 25)      700         ['char_vectorizer[0][0]']        \n",
            "                                                                                                  \n",
            " dense_36 (Dense)               (None, 128)          65664       ['universal_sentence_encoder[0][0\n",
            "                                                                 ]']                              \n",
            "                                                                                                  \n",
            " bidirectional_9 (Bidirectional  (None, 128)         46080       ['char_embed[0][0]']             \n",
            " )                                                                                                \n",
            "                                                                                                  \n",
            " char_token_hybrid_embedding (C  (None, 256)         0           ['dense_36[0][0]',               \n",
            " oncatenate)                                                      'bidirectional_9[0][0]']        \n",
            "                                                                                                  \n",
            " line_number_input (InputLayer)  [(None, 16)]        0           []                               \n",
            "                                                                                                  \n",
            " total_line_input (InputLayer)  [(None, 20)]         0           []                               \n",
            "                                                                                                  \n",
            " dense_39 (Dense)               (None, 256)          65792       ['char_token_hybrid_embedding[0][\n",
            "                                                                 0]']                             \n",
            "                                                                                                  \n",
            " dense_37 (Dense)               (None, 32)           544         ['line_number_input[0][0]']      \n",
            "                                                                                                  \n",
            " dense_38 (Dense)               (None, 32)           672         ['total_line_input[0][0]']       \n",
            "                                                                                                  \n",
            " dropout_6 (Dropout)            (None, 256)          0           ['dense_39[0][0]']               \n",
            "                                                                                                  \n",
            " Tribrid_embedding (Concatenate  (None, 320)         0           ['dense_37[0][0]',               \n",
            " )                                                                'dense_38[0][0]',               \n",
            "                                                                  'dropout_6[0][0]']              \n",
            "                                                                                                  \n",
            " dense_40 (Dense)               (None, 5)            1605        ['Tribrid_embedding[0][0]']      \n",
            "                                                                                                  \n",
            "==================================================================================================\n",
            "Total params: 256,978,881\n",
            "Trainable params: 181,057\n",
            "Non-trainable params: 256,797,824\n",
            "__________________________________________________________________________________________________\n"
          ]
        }
      ]
    },
    {
      "cell_type": "code",
      "source": [],
      "metadata": {
        "id": "D0JwqCt8lzQL"
      },
      "execution_count": null,
      "outputs": []
    },
    {
      "cell_type": "markdown",
      "source": [
        "### Download and load in a pretrained model from google storage"
      ],
      "metadata": {
        "id": "CymM-_kLmB-4"
      }
    },
    {
      "cell_type": "code",
      "source": [
        "import tensorflow as tf\n",
        "import tensorflow_hub as hub\n",
        "from tensorflow.keras.layers.experimental.preprocessing import TextVectorization"
      ],
      "metadata": {
        "id": "MREKvJTAmZ5O"
      },
      "execution_count": null,
      "outputs": []
    },
    {
      "cell_type": "code",
      "source": [
        "text = \"\"\"SARS-CoV-2 is a member of the family of coronaviruses. The first cases were recorded in Wuhan, China, between December 2019 and January 2020. Italy is one of the most affected countries in Europe. COVID-19 is a new challenge in modern dentistry. New guidelines are required in dental clinics to avoid contagion caused by cross-infections. A narrative review was performed using both primary sources, such as scientific articles and secondary ones, such as bibliographic indexes, web pages, and databases. The main search engines were PubMed, SciELO, and Google Scholar. Twelve articles were selected to develop the bibliographic review by applying pre-established inclusion and exclusion criteria. Precautionary measures should be applied to control COVID-19 in clinical practice. Several authors have highlighted the importance of telephone triage and/or clinic questionnaires, body temperature measurement, usage of personal protective equipment, surface disinfection with ethanol between 62% and 71%, high-speed instruments equipped with an anti-retraction system, four-handed work, and large-volume cannulas for aspiration. Clinically, the use of a rubber dam is essential. FFP2 (or N95) and FFP3 respirators, if compared to surgical masks, provide greater protection for health workers against viral respiratory infections. Further accurate studies are needed to confirm this.\n",
        "        \"\"\""
      ],
      "metadata": {
        "id": "X4Xa4NbFsNNj"
      },
      "execution_count": null,
      "outputs": []
    },
    {
      "cell_type": "code",
      "source": [
        "type(text)"
      ],
      "metadata": {
        "colab": {
          "base_uri": "https://localhost:8080/"
        },
        "id": "eY9TZMO6sVcO",
        "outputId": "b6dcb261-210d-49a6-d017-f77f2672d353"
      },
      "execution_count": null,
      "outputs": [
        {
          "output_type": "execute_result",
          "data": {
            "text/plain": [
              "str"
            ]
          },
          "metadata": {},
          "execution_count": 2
        }
      ]
    },
    {
      "cell_type": "code",
      "source": [
        "def split_chars(text):\n",
        "  return \" \".join(list(text))\n"
      ],
      "metadata": {
        "id": "RjlqVZW7vaXL"
      },
      "execution_count": null,
      "outputs": []
    },
    {
      "cell_type": "code",
      "source": [
        "classes = ['BACKGROUND', 'CONCLUSIONS', 'METHODS', 'OBJECTIVE', 'RESULTS']\n",
        "new_classes = [3, 0, 2, 4, 1]\n",
        "def new_text(pred_results , classes , sent_list):\n",
        "  new_string = \"\"\n",
        "\n",
        "  ans = \"\"\n",
        "  for i in new_classes:\n",
        "    if i in pred_results:\n",
        "      new_string = \"\\n\\n\"+classes[i]+\":\"\n",
        "      for j in range(len(pred_results)):\n",
        "        if pred_results[j]== i:\n",
        "          new_string += sent_list[j]+\".\"\n",
        "      ans += new_string\n",
        "  return ans"
      ],
      "metadata": {
        "id": "NN74T4TkPTl5"
      },
      "execution_count": null,
      "outputs": []
    },
    {
      "cell_type": "code",
      "source": [
        "import numpy as np\n",
        "import tensorflow as tf\n",
        "def abstract_extraction(text , classes = classes , new_classes = new_classes , model = loaded_model):\n",
        "  sent_list = text.split('.')\n",
        "  char_sent_list = [split_chars (sentence ) for sentence in sent_list]\n",
        "  total_lines = len(sent_list)\n",
        "  lines = np.arange(total_lines)\n",
        "  total_lines = np.array([total_lines])\n",
        "  lines_one_hot =tf.one_hot(lines , depth = 16)\n",
        "  total_lines_onehot = tf.one_hot(total_lines , depth = 20).numpy()\n",
        "  new_array = np.ones(shape =(int(total_lines), 1))\n",
        "  total_lines_one_hot = new_array*total_lines_onehot\n",
        "  total_lines_onehot = tf.cast(tf.constant(total_lines_one_hot), dtype = tf.float32)\n",
        "  dataset = (tf.constant(sent_list) , tf.constant(char_sent_list) , lines_one_hot , total_lines_onehot)\n",
        "  pred = loaded_model.predict(x = dataset)\n",
        "  pred_results = tf.argmax(pred , axis = 1)\n",
        "  print(pred_results)\n",
        "  ans = new_text(pred_results, classes , sent_list)\n",
        "  print(ans)\n",
        "  return ans\n",
        "\n",
        "\n",
        "ans = abstract_extraction(text)\n",
        "ans\n"
      ],
      "metadata": {
        "id": "piEDGp6mmp8V",
        "colab": {
          "base_uri": "https://localhost:8080/",
          "height": 368
        },
        "outputId": "c4999551-7127-44b1-a42f-41940ae28afb"
      },
      "execution_count": null,
      "outputs": [
        {
          "output_type": "stream",
          "name": "stdout",
          "text": [
            "1/1 [==============================] - 0s 409ms/step\n",
            "tf.Tensor([0 0 0 2 2 2 4 2 2 4 4 4 1 0 1 1 0 1 0 1 1 0], shape=(22,), dtype=int64)\n",
            "\n",
            "\n",
            "BACKGROUND:Hepatitis C virus (HCV) and alcoholic liver disease (ALD), either alone or in combination, count for more than two thirds of all liver diseases in the Western world. There is no safe level of drinking in HCV-infected patients and the most effective goal for these patients is total abstinence. Baclofen, a GABA(B) receptor agonist, represents a promising pharmacotherapy for alcohol dependence (AD).0123).0716).e.\n",
            "      .\n",
            "\n",
            "METHODS: Previously, we performed a randomized clinical trial (RCT), which demonstrated the safety and efficacy of baclofen in patients affected by AD and cirrhosis. The goal of this post-hoc analysis was to explore baclofen's effect in a subgroup of alcohol-dependent HCV-infected cirrhotic patients. Any patient with HCV infection was selected for this analysis.i.d.\n",
            "\n",
            "RESULTS: Among the 84 subjects randomized in the main trial, 24 alcohol-dependent cirrhotic patients had a HCV infection; 12 received baclofen 10mg t. and 12 received placebo for 12-weeks. With respect to the placebo group (3/12, 25.0%), a significantly higher number of patients who achieved and maintained total alcohol abstinence was found in the baclofen group (10/12, 83.\n",
            "\n",
            "CONCLUSIONS:3%; p=0. Furthermore, in the baclofen group, compared to placebo, there was a significantly higher increase in albumin values from baseline (p=0.0132) and a trend toward a significant reduction in INR levels from baseline (p=0. In conclusion, baclofen was safe and significantly more effective than placebo in promoting alcohol abstinence, and improving some Liver Function Tests (LFTs) (i. albumin, INR) in alcohol-dependent HCV-infected cirrhotic patients. Baclofen may represent a clinically relevant alcohol pharmacotherapy for these patients.\n"
          ]
        },
        {
          "output_type": "execute_result",
          "data": {
            "text/plain": [
              "\"\\n\\nBACKGROUND:Hepatitis C virus (HCV) and alcoholic liver disease (ALD), either alone or in combination, count for more than two thirds of all liver diseases in the Western world. There is no safe level of drinking in HCV-infected patients and the most effective goal for these patients is total abstinence. Baclofen, a GABA(B) receptor agonist, represents a promising pharmacotherapy for alcohol dependence (AD).0123).0716).e.\\n      .\\n\\nMETHODS: Previously, we performed a randomized clinical trial (RCT), which demonstrated the safety and efficacy of baclofen in patients affected by AD and cirrhosis. The goal of this post-hoc analysis was to explore baclofen's effect in a subgroup of alcohol-dependent HCV-infected cirrhotic patients. Any patient with HCV infection was selected for this analysis.i.d.\\n\\nRESULTS: Among the 84 subjects randomized in the main trial, 24 alcohol-dependent cirrhotic patients had a HCV infection; 12 received baclofen 10mg t. and 12 received placebo for 12-weeks. With respect to the placebo group (3/12, 25.0%), a significantly higher number of patients who achieved and maintained total alcohol abstinence was found in the baclofen group (10/12, 83.\\n\\nCONCLUSIONS:3%; p=0. Furthermore, in the baclofen group, compared to placebo, there was a significantly higher increase in albumin values from baseline (p=0.0132) and a trend toward a significant reduction in INR levels from baseline (p=0. In conclusion, baclofen was safe and significantly more effective than placebo in promoting alcohol abstinence, and improving some Liver Function Tests (LFTs) (i. albumin, INR) in alcohol-dependent HCV-infected cirrhotic patients. Baclofen may represent a clinically relevant alcohol pharmacotherapy for these patients.\""
            ],
            "application/vnd.google.colaboratory.intrinsic+json": {
              "type": "string"
            }
          },
          "metadata": {},
          "execution_count": 54
        }
      ]
    },
    {
      "cell_type": "code",
      "source": [
        "text = \"\"\"Hepatitis C virus (HCV) and alcoholic liver disease (ALD), either alone or in combination, count for more than two thirds of all liver diseases in the Western world. There is no safe level of drinking in HCV-infected patients and the most effective goal for these patients is total abstinence. Baclofen, a GABA(B) receptor agonist, represents a promising pharmacotherapy for alcohol dependence (AD). Previously, we performed a randomized clinical trial (RCT), which demonstrated the safety and efficacy of baclofen in patients affected by AD and cirrhosis. The goal of this post-hoc analysis was to explore baclofen's effect in a subgroup of alcohol-dependent HCV-infected cirrhotic patients. Any patient with HCV infection was selected for this analysis. Among the 84 subjects randomized in the main trial, 24 alcohol-dependent cirrhotic patients had a HCV infection; 12 received baclofen 10mg t.i.d. and 12 received placebo for 12-weeks. With respect to the placebo group (3/12, 25.0%), a significantly higher number of patients who achieved and maintained total alcohol abstinence was found in the baclofen group (10/12, 83.3%; p=0.0123). Furthermore, in the baclofen group, compared to placebo, there was a significantly higher increase in albumin values from baseline (p=0.0132) and a trend toward a significant reduction in INR levels from baseline (p=0.0716). In conclusion, baclofen was safe and significantly more effective than placebo in promoting alcohol abstinence, and improving some Liver Function Tests (LFTs) (i.e. albumin, INR) in alcohol-dependent HCV-infected cirrhotic patients. Baclofen may represent a clinically relevant alcohol pharmacotherapy for these patients.\n",
        "      \"\"\"\n",
        "abstract_extraction(text)"
      ],
      "metadata": {
        "id": "Z6U9CDa7neYZ",
        "colab": {
          "base_uri": "https://localhost:8080/"
        },
        "outputId": "98f6b0cd-f551-4faf-a45d-b1c06dadb018"
      },
      "execution_count": null,
      "outputs": [
        {
          "output_type": "stream",
          "name": "stdout",
          "text": [
            "1/1 [==============================] - 0s 158ms/step\n",
            "tf.Tensor([0 0 0 2 2 2 4 2 2 4 4 4 1 0 1 1 0 1 0 1 1 0], shape=(22,), dtype=int64)\n",
            "\n",
            "\n",
            "BACKGROUND:Hepatitis C virus (HCV) and alcoholic liver disease (ALD), either alone or in combination, count for more than two thirds of all liver diseases in the Western world. There is no safe level of drinking in HCV-infected patients and the most effective goal for these patients is total abstinence. Baclofen, a GABA(B) receptor agonist, represents a promising pharmacotherapy for alcohol dependence (AD).0123).0716).e.\n",
            "      .\n",
            "\n",
            "METHODS: Previously, we performed a randomized clinical trial (RCT), which demonstrated the safety and efficacy of baclofen in patients affected by AD and cirrhosis. The goal of this post-hoc analysis was to explore baclofen's effect in a subgroup of alcohol-dependent HCV-infected cirrhotic patients. Any patient with HCV infection was selected for this analysis.i.d.\n",
            "\n",
            "RESULTS: Among the 84 subjects randomized in the main trial, 24 alcohol-dependent cirrhotic patients had a HCV infection; 12 received baclofen 10mg t. and 12 received placebo for 12-weeks. With respect to the placebo group (3/12, 25.0%), a significantly higher number of patients who achieved and maintained total alcohol abstinence was found in the baclofen group (10/12, 83.\n",
            "\n",
            "CONCLUSIONS:3%; p=0. Furthermore, in the baclofen group, compared to placebo, there was a significantly higher increase in albumin values from baseline (p=0.0132) and a trend toward a significant reduction in INR levels from baseline (p=0. In conclusion, baclofen was safe and significantly more effective than placebo in promoting alcohol abstinence, and improving some Liver Function Tests (LFTs) (i. albumin, INR) in alcohol-dependent HCV-infected cirrhotic patients. Baclofen may represent a clinically relevant alcohol pharmacotherapy for these patients.\n"
          ]
        }
      ]
    },
    {
      "cell_type": "code",
      "source": [
        "\n",
        "\n"
      ],
      "metadata": {
        "id": "-Qa7CSJKnwxL"
      },
      "execution_count": null,
      "outputs": []
    },
    {
      "cell_type": "code",
      "source": [],
      "metadata": {
        "id": "TRzqdPgeI6IV"
      },
      "execution_count": null,
      "outputs": []
    }
  ]
}